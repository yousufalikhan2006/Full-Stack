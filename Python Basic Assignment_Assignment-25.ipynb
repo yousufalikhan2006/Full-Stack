{
 "cells": [
  {
   "cell_type": "markdown",
   "id": "3f6c6ff0",
   "metadata": {},
   "source": [
    "# 1) . What is the difference between enclosing a list comprehension in square brackets and parentheses?\n",
    "\n",
    "## Answer: "
   ]
  },
  {
   "cell_type": "markdown",
   "id": "2712f6d0",
   "metadata": {},
   "source": [
    "#### The difference between the two kinds of expressions is that the List comprehension is enclosed in square brackets [] while the Generator expression is enclosed in plain parentheses (). For Example:"
   ]
  },
  {
   "cell_type": "code",
   "execution_count": 7,
   "id": "838b1741",
   "metadata": {},
   "outputs": [],
   "source": [
    "l = [n*2 for n in range(1000)] # List comprehension\n",
    "g = (n*2 for n in range(1000))  # Generator expression"
   ]
  },
  {
   "cell_type": "markdown",
   "id": "d20f4447",
   "metadata": {},
   "source": [
    "# 2) What is the relationship between generators and iterators?\n",
    "\n",
    "## Answer:"
   ]
  },
  {
   "cell_type": "markdown",
   "id": "5d1fc254",
   "metadata": {},
   "source": [
    "#### Iterators are used mostly to iterate or convert other objects to an iterator using iter() function. Hoever, Generators are mostly used in loops to generate an iterator by returning all the values in the loop without affecting the iteration of the loop"
   ]
  },
  {
   "cell_type": "markdown",
   "id": "7204e162",
   "metadata": {},
   "source": [
    "# 3) What are the signs that a function is a generator function?\n",
    "\n",
    "## Answer:"
   ]
  },
  {
   "cell_type": "markdown",
   "id": "9dd228f0",
   "metadata": {},
   "source": [
    "#### A generator is a special type of function which does not return a single value, instead, it returns an iterator object with a sequence of values. In a generator function, a yield statement is used rather than a return statement."
   ]
  },
  {
   "cell_type": "markdown",
   "id": "42c64b5f",
   "metadata": {},
   "source": [
    "# 4) What is the purpose of a yield statement?\n",
    "\n",
    "## Answer:"
   ]
  },
  {
   "cell_type": "markdown",
   "id": "1f4d1879",
   "metadata": {},
   "source": [
    "#### Yield returns a generator object to the caller, and the execution of the code starts only when the generator is iterated. A return in a function is the end of the function execution, and a single value is given back to the caller. \"OR\"\n",
    "\n",
    "#### Yield is a keyword in Python that is used to return from a function without destroying the states of its local variable and when the function is called, the execution starts from the last yield statement."
   ]
  },
  {
   "cell_type": "markdown",
   "id": "852ea145",
   "metadata": {},
   "source": [
    "# 5) What is the relationship between map calls and list comprehensions? Make a comparison and contrast between the two.\n",
    "\n",
    "## Answer:"
   ]
  },
  {
   "cell_type": "markdown",
   "id": "3880996d",
   "metadata": {},
   "source": [
    "#### List comprehension is more concise and easier to read as compared to map.\n",
    "#### List comprehension allows filtering. In map, we have no such facility. For example, to print all even numbers in range of 100, we can write [n for n in range(100) if n%2 == 0]. There is no alternate for it in map\n",
    "#### List comprehension are used when a list of results is required as map only returns a map object and does not return any list.\n",
    "#### List comprehension is faster than map when we need to evaluate expressions that are too long or complicated to express\n",
    "#### Map is faster in case of calling an already defined function (as no lambda is required)."
   ]
  }
 ],
 "metadata": {
  "kernelspec": {
   "display_name": "Python 3",
   "language": "python",
   "name": "python3"
  },
  "language_info": {
   "codemirror_mode": {
    "name": "ipython",
    "version": 3
   },
   "file_extension": ".py",
   "mimetype": "text/x-python",
   "name": "python",
   "nbconvert_exporter": "python",
   "pygments_lexer": "ipython3",
   "version": "3.8.8"
  }
 },
 "nbformat": 4,
 "nbformat_minor": 5
}
