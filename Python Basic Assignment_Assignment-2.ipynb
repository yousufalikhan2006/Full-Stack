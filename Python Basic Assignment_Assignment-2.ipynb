{
 "cells": [
  {
   "cell_type": "markdown",
   "id": "cd9bbf24",
   "metadata": {},
   "source": [
    "# 1.What are the two values of the Boolean data type? How do you write them?\n",
    "\n",
    "## Answer:\n",
    "\n",
    "### Boolean data type is having two values True and False. We write TRUE as 1 and FALSE as 0."
   ]
  },
  {
   "cell_type": "markdown",
   "id": "a77ac870",
   "metadata": {},
   "source": [
    "# 2. What are the three different types of Boolean operators?\n",
    "\n",
    "## Answer2:\n",
    "\n",
    "### Basic Boolean operators are AND, OR and NOT"
   ]
  },
  {
   "cell_type": "markdown",
   "id": "c4b711f9",
   "metadata": {},
   "source": [
    "# 3. Make a list of each Boolean operator's truth tables (i.e. every possible combination of Boolean values for the operator and what it evaluate ).\n",
    "\n",
    "## Answer3:\n",
    "\n",
    "### Truth Table for all Basic boolean operators are as below:\n",
    "\n",
    "### Truth Table for AND-\n",
    "\n",
    "#### (INPUT-1)      (INPUT-2)    (OUTPUT)\n",
    "####   (0)            (0)           (0)\n",
    "####   (0)            (1)           (0)\n",
    "####   (1)            (0)           (0)\n",
    "####   (1)            (1)           (1)\n",
    "\n",
    "### Truth Table for OR-\n",
    "\n",
    "#### (INPUT-1)      (INPUT-2)        (OUTPUT)\n",
    "####   (0)             (0)             (0)\n",
    "####   (0)             (1)             (1)\n",
    "####   (1)             (0)             (1)\n",
    "####   (1)             (1)             (1)\n",
    "\n",
    "### Truth Table for NOT-\n",
    "\n",
    "#### (INPUT)        (OUTPUT)\n",
    "####   (0)             (1)             \n",
    "####   (1)             (0)           "
   ]
  },
  {
   "cell_type": "markdown",
   "id": "99d955ad",
   "metadata": {},
   "source": [
    "# 4. What are the values of the following expressions?\n",
    "\n",
    "## Answer4:\n",
    "\n",
    "### Heere will be the Output:\n",
    "\n",
    "#### (5 > 4) and (3 == 5)--------------------> False\n",
    "#### not (5 > 4)-----------------------------> False\n",
    "#### (5 > 4) or (3 == 5)---------------------> True\n",
    "#### not ((5 > 4) or (3 == 5))---------------> False\n",
    "#### (True and True) and (True == False)-----> False\n",
    "#### (not False) or (not True)---------------> True"
   ]
  },
  {
   "cell_type": "markdown",
   "id": "ecc2e485",
   "metadata": {},
   "source": [
    "# 5. What are the six comparison operators?\n",
    "\n",
    "## Answer-5:\n",
    "\n",
    "#### The six comparision operators are:\n",
    "\n",
    "#### 1) ==, 2) !=, 3) >, 4) <, 5) >=, 6) <="
   ]
  },
  {
   "cell_type": "markdown",
   "id": "171af2e4",
   "metadata": {},
   "source": [
    "# 6. How do you tell the difference between the equal to and assignment operators?Describe a condition and when you would use one.\n",
    "\n",
    "## Answer-6:\n",
    "\n",
    "#### The “=” is an assignment operator is used to assign the value on the right to the variable on the left. The '==' operator checks whether the two given operands are equal or not. If so, it returns true. Otherwise it returns false."
   ]
  },
  {
   "cell_type": "markdown",
   "id": "23ce93e8",
   "metadata": {},
   "source": [
    "# 7. Identify the three blocks in this code:\n",
    "\n",
    "## Answer-7:\n",
    "\n",
    "#### spam = 0\n",
    "#### if spam == 10:--->Block-1(Down)\n",
    "#### print('eggs')\n",
    "#### if spam > 5:----->Block-2 (Down)\n",
    "#### print('bacon')\n",
    "#### else:------------>Block-3(Down)\n",
    "#### print('ham')\n",
    "#### print('spam')\n",
    "#### print('spam')\n"
   ]
  },
  {
   "cell_type": "markdown",
   "id": "e6e1d9f8",
   "metadata": {},
   "source": [
    "# 8. Write code that prints Hello if 1 is stored in spam, prints Howdy if 2 is stored in spam, and prints Greetings! if anything else is stored in spam.\n",
    "\n",
    "## Answer-8:\n",
    "\n",
    "spam = int(input(\"Enter the value of Spam: \"))\n",
    "\n",
    "if spam==1:\n",
    "    \n",
    "    print(\"Hello\")\n",
    "    \n",
    "elif spam==2:\n",
    "    \n",
    "    print(\"Howdy\")\n",
    "    \n",
    "else:\n",
    "    \n",
    "    print(\"Greetings!\")"
   ]
  },
  {
   "cell_type": "markdown",
   "id": "ae5588d3",
   "metadata": {},
   "source": [
    "# 9. If your programme is stuck in an endless loop, what keys you’ll press?\n",
    "\n",
    "## Answer-9:\n",
    "\n",
    "#### Press ctrl+c"
   ]
  },
  {
   "cell_type": "markdown",
   "id": "79b2a58b",
   "metadata": {},
   "source": [
    "# 10. How can you tell the difference between break and continue?\n",
    "\n",
    "## Answer-10:\n",
    "\n",
    "#### Break statement resumes the control of the program to the end of loop and made executional flow outside that loop. Continue statement resumes the control of the program to the next iteration of that loop enclosing 'continue' and made executional flow inside the loop again."
   ]
  },
  {
   "cell_type": "markdown",
   "id": "b68dabb3",
   "metadata": {},
   "source": [
    "# 11. In a for loop, what is the difference between range(10), range(0, 10), and range(0, 10, 1)?\n",
    "\n",
    "## Answer-11:\n",
    "\n",
    "#### There is No difference in O/P post execution of for loop. In range(10), we haven't given start point and hence, its taking default as 0.\n",
    "\n",
    "#### Where as in range(0, 10), we are providing start point which is 0.\n",
    "\n",
    "#### However, In range (0, 10, 1) its been provided start, end and step as well."
   ]
  },
  {
   "cell_type": "markdown",
   "id": "3e9e095e",
   "metadata": {},
   "source": [
    "# 12. Write a short program that prints the numbers 1 to 10 using a for loop. Then write an equivalent program that prints the numbers 1 to 10 using a while loop.\n",
    "\n",
    "## Answer-12:\n",
    "\n",
    "1- For Loop\n",
    "\n",
    "for i in range(1, 11):\n",
    "    \n",
    "    print(i)\n",
    "    \n",
    "2- while loop\n",
    "\n",
    "val=1\n",
    "\n",
    "while val<=10:\n",
    "    \n",
    "    print(val)\n",
    "    \n",
    "    val+=1"
   ]
  },
  {
   "cell_type": "markdown",
   "id": "2077e14d",
   "metadata": {},
   "source": [
    "# 13. If you had a function named bacon() inside a module named spam, how would you call it after importing spam?\n",
    "\n",
    "## Answer-13:\n",
    "\n",
    "#### \n",
    "\n",
    "#### import spam\n",
    "#### spam.bacon()"
   ]
  }
 ],
 "metadata": {
  "kernelspec": {
   "display_name": "Python 3",
   "language": "python",
   "name": "python3"
  },
  "language_info": {
   "codemirror_mode": {
    "name": "ipython",
    "version": 3
   },
   "file_extension": ".py",
   "mimetype": "text/x-python",
   "name": "python",
   "nbconvert_exporter": "python",
   "pygments_lexer": "ipython3",
   "version": "3.8.8"
  }
 },
 "nbformat": 4,
 "nbformat_minor": 5
}
