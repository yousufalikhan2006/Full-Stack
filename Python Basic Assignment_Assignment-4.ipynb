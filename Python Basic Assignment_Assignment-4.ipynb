{
 "cells": [
  {
   "cell_type": "markdown",
   "id": "ba9c1566",
   "metadata": {},
   "source": [
    "# 1. What exactly is []?\n",
    "\n",
    "## Answer-1:\n",
    "\n",
    "#### Empty List. With this we can create an empty list and assign it to some variable."
   ]
  },
  {
   "cell_type": "markdown",
   "id": "72e87ec2",
   "metadata": {},
   "source": [
    "# 2. In a list of values stored in a variable called spam, how would you assign the value 'hello' as the third value? (Assume [2, 4, 6, 8, 10] are in spam.)\n",
    "\n",
    "## Answer-2:\n",
    "\n",
    "#### \n",
    "\n",
    "spam= [2, 4, 6, 8, 10]\n",
    "\n",
    "spam[2]='hello'"
   ]
  },
  {
   "cell_type": "markdown",
   "id": "da2110ef",
   "metadata": {},
   "source": [
    "# Let's pretend the spam includes the list ['a', 'b', 'c', 'd'] for the next three queries."
   ]
  },
  {
   "cell_type": "markdown",
   "id": "8a68609c",
   "metadata": {},
   "source": [
    "# 3. What is the value of spam[int(int('3' * 2) / 11)]?\n",
    "\n",
    "## Answer-3:\n",
    "\n",
    "#### 'd'"
   ]
  },
  {
   "cell_type": "markdown",
   "id": "85062b86",
   "metadata": {},
   "source": [
    "# 4. What is the value of spam[-1]?\n",
    "\n",
    "## Answer-3:\n",
    "\n",
    "#### 'd'"
   ]
  },
  {
   "cell_type": "markdown",
   "id": "43e1c85f",
   "metadata": {},
   "source": [
    "# 5. What is the value of spam[:2]?\n",
    "\n",
    "## ANswer-5:\n",
    "\n",
    "#### ['a', 'b']"
   ]
  },
  {
   "cell_type": "code",
   "execution_count": null,
   "id": "17af727f",
   "metadata": {},
   "outputs": [],
   "source": [
    "# Let's pretend bacon has the list [3.14, 'cat', 11, 'cat', True] for the next three questions."
   ]
  },
  {
   "cell_type": "markdown",
   "id": "c6981461",
   "metadata": {},
   "source": [
    "# 6. What is the value of bacon.index('cat')?\n",
    "\n",
    "## Answer-6:\n",
    "\n",
    "#### 1"
   ]
  },
  {
   "cell_type": "markdown",
   "id": "53a81f40",
   "metadata": {},
   "source": [
    "# 7. How does bacon.append(99) change the look of the list value in bacon?\n",
    "\n",
    "## Answer-7:\n",
    "\n",
    "#### [3.14, 'cat', 11, 'cat', True, 99], it appended 99 in the end of the list."
   ]
  },
  {
   "cell_type": "markdown",
   "id": "6403a630",
   "metadata": {},
   "source": [
    "# 8. How does bacon.remove('cat') change the look of the list in bacon?\n",
    "\n",
    "## Answer-8: \n",
    "\n",
    "#### [3.14, 11, 'cat', True], it will remove 'cat' from postion 1 (list starts from 0)"
   ]
  },
  {
   "cell_type": "markdown",
   "id": "3f5ea41e",
   "metadata": {},
   "source": [
    "# 9. What are the list concatenation and list replication operators?\n",
    "\n",
    "## Answer-9:\n",
    "\n",
    "#### The operator for list concatenation is + and for list replication is * "
   ]
  },
  {
   "cell_type": "markdown",
   "id": "a5b93ed7",
   "metadata": {},
   "source": [
    "# 10. What is difference between the list methods append() and insert()?\n",
    "\n",
    "## Answer-10: \n",
    "\n",
    "#### list append() method appends the provided element in the end of list by default. However, insert() method takes two argument one for location where to insert at a given list and second for inserting element."
   ]
  },
  {
   "cell_type": "markdown",
   "id": "2dc7f681",
   "metadata": {},
   "source": [
    "# 11. What are the two methods for removing items from a list?\n",
    "\n",
    "## Answer-11:\n",
    "\n",
    "#### remove(), pop()"
   ]
  },
  {
   "cell_type": "markdown",
   "id": "3b1e1ed5",
   "metadata": {},
   "source": [
    "# 12. Describe how list values and string values are identical.\n",
    "\n",
    "## Answer-12:\n",
    "\n",
    "#### Lists are identical to strings, which are ordered collections of characters."
   ]
  },
  {
   "cell_type": "markdown",
   "id": "d1ad3c97",
   "metadata": {},
   "source": [
    "# 13. What's the difference between tuples and lists?\n",
    "\n",
    "## Answer-13:\n",
    "\n",
    "#### lists are mutable. However, tuples are immutable."
   ]
  },
  {
   "cell_type": "markdown",
   "id": "1f6f319e",
   "metadata": {},
   "source": [
    "# 14. How do you type a tuple value that only contains the integer 42?\n",
    "\n",
    "## Answer-14:\n",
    "\n",
    "#### (42,)"
   ]
  },
  {
   "cell_type": "markdown",
   "id": "b3c259ca",
   "metadata": {},
   "source": [
    "# 15. How do you get a list value's tuple form? How do you get a tuple value's list form?\n",
    "\n",
    "## Answer-15:\n",
    "\n",
    "#### We can get a list value's in tuple form by typecasting list--> tuple(list_name).\n",
    "\n",
    "#### Similary we can get a tuple value's list form by typecasting---> list(tuple_name). Also, we can use list comprehension."
   ]
  },
  {
   "cell_type": "markdown",
   "id": "896d9e78",
   "metadata": {},
   "source": [
    "# 16. Variables that \"contain\" list values are not necessarily lists themselves. Instead, what do they contain?\n",
    "\n",
    "## Answer-16:\n",
    "\n",
    "#### They do contain references to list values rather than list values themselves."
   ]
  },
  {
   "cell_type": "markdown",
   "id": "60e2adb8",
   "metadata": {},
   "source": [
    "# 17. How do you distinguish between copy.copy() and copy.deepcopy()?\n",
    "\n",
    "## Answer-17:\n",
    "\n",
    "#### A shallow copy constructs a new compound object and then (to the extent possible) inserts references into it to the objects found in the original. A deep copy constructs a new compound object and then, recursively, inserts copies into it of the objects found in the original.\n"
   ]
  }
 ],
 "metadata": {
  "kernelspec": {
   "display_name": "Python 3",
   "language": "python",
   "name": "python3"
  },
  "language_info": {
   "codemirror_mode": {
    "name": "ipython",
    "version": 3
   },
   "file_extension": ".py",
   "mimetype": "text/x-python",
   "name": "python",
   "nbconvert_exporter": "python",
   "pygments_lexer": "ipython3",
   "version": "3.8.8"
  }
 },
 "nbformat": 4,
 "nbformat_minor": 5
}
