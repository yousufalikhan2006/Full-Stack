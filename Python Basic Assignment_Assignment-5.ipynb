{
 "cells": [
  {
   "cell_type": "markdown",
   "id": "ceadb1ba",
   "metadata": {},
   "source": [
    "# 1. What does an empty dictionary's code look like?\n",
    "\n",
    "## Answer-1:\n",
    "\n",
    "#### {}"
   ]
  },
  {
   "cell_type": "markdown",
   "id": "1818376c",
   "metadata": {},
   "source": [
    "# 2. What is the value of a dictionary value with the key 'foo' and the value 42?\n",
    "\n",
    "## Answer-2:\n",
    "\n",
    "#### {'foo': 42}"
   ]
  },
  {
   "cell_type": "markdown",
   "id": "7a2b32bb",
   "metadata": {},
   "source": [
    "# 3. What is the most significant distinction between a dictionary and a list?\n",
    "\n",
    "## Answer-3:\n",
    "\n",
    "#### The items stored in a dictionary are unordered, while the items in a list are ordered."
   ]
  },
  {
   "cell_type": "markdown",
   "id": "7c2ad518",
   "metadata": {},
   "source": [
    "# 4. What happens if you try to access spam['foo'] if spam is {'bar': 100}?\n",
    "\n",
    "## Answer-4:\n",
    "\n",
    "#### KeyError will be the output of error."
   ]
  },
  {
   "cell_type": "markdown",
   "id": "999b026c",
   "metadata": {},
   "source": [
    "# 5. If a dictionary is stored in spam, what is the difference between the expressions 'cat' in spam and 'cat' in spam.keys()?\n",
    "\n",
    "## Answer-5:\n",
    "\n",
    "#### There is no difference in the output. The in operator checks whether a value exists as a key in the dictionary."
   ]
  },
  {
   "cell_type": "markdown",
   "id": "b86ede5e",
   "metadata": {},
   "source": [
    "# 6. If a dictionary is stored in spam, what is the difference between the expressions 'cat' in spam and 'cat' in spam.values()?\n",
    "\n",
    "## Answer-6:\n",
    "\n",
    "#### 'cat' in spam will return True. However, 'cat' in spam.values() will return False.\n",
    "\n",
    "#### 'cat' in spam checks whether there is a 'cat' key in the dictionary, while 'cat' in spam.values() checks whether there is a value 'cat' for one of the keys in spam."
   ]
  },
  {
   "cell_type": "markdown",
   "id": "4f53981e",
   "metadata": {},
   "source": [
    "# 7. What is a shortcut for the following code?\n",
    "#### if 'color' not in spam:\n",
    "####    spam['color'] = 'black'\n",
    "\n",
    "## Answer-7:\n",
    "\n",
    "#### spam.setdefault('color', 'black')"
   ]
  },
  {
   "cell_type": "markdown",
   "id": "106d1e1a",
   "metadata": {},
   "source": [
    "# 8. How do you \"pretty print\" dictionary values using which module and function?\n",
    "\n",
    "## Answer-8:\n",
    "\n",
    "#### pprint is a Python module which supports pretty-printing dictionary.\n",
    "\n",
    "#### Within the pprint module there is a function with the same name pprint(), which is the function used to pretty-print the given string or object."
   ]
  }
 ],
 "metadata": {
  "kernelspec": {
   "display_name": "Python 3",
   "language": "python",
   "name": "python3"
  },
  "language_info": {
   "codemirror_mode": {
    "name": "ipython",
    "version": 3
   },
   "file_extension": ".py",
   "mimetype": "text/x-python",
   "name": "python",
   "nbconvert_exporter": "python",
   "pygments_lexer": "ipython3",
   "version": "3.8.8"
  }
 },
 "nbformat": 4,
 "nbformat_minor": 5
}
