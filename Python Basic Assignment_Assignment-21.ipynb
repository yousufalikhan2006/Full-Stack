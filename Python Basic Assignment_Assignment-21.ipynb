{
 "cells": [
  {
   "cell_type": "markdown",
   "id": "4ee8284b",
   "metadata": {},
   "source": [
    "# 1. Add the current date to the text file today.txt as a string.\n",
    "\n",
    "## Answer:"
   ]
  },
  {
   "cell_type": "code",
   "execution_count": 1,
   "id": "edec9a30",
   "metadata": {},
   "outputs": [
    {
     "data": {
      "text/plain": [
       "10"
      ]
     },
     "execution_count": 1,
     "metadata": {},
     "output_type": "execute_result"
    }
   ],
   "source": [
    "file = open(\"today.txt\", 'w')\n",
    "\n",
    "file.write('2021-06-29')"
   ]
  },
  {
   "cell_type": "code",
   "execution_count": 2,
   "id": "0856c118",
   "metadata": {},
   "outputs": [],
   "source": [
    "file.close()"
   ]
  },
  {
   "cell_type": "markdown",
   "id": "4c0b7aa4",
   "metadata": {},
   "source": [
    "# 2. Read the text file today.txt into the string today_string\n",
    "\n",
    "## Answer:"
   ]
  },
  {
   "cell_type": "code",
   "execution_count": 4,
   "id": "a9daeb4f",
   "metadata": {},
   "outputs": [
    {
     "data": {
      "text/plain": [
       "'2021-06-29'"
      ]
     },
     "execution_count": 4,
     "metadata": {},
     "output_type": "execute_result"
    }
   ],
   "source": [
    "file = open(\"today.txt\", 'r')\n",
    "\n",
    "today_string = file.read()\n",
    "\n",
    "today_string"
   ]
  },
  {
   "cell_type": "markdown",
   "id": "e077cb06",
   "metadata": {},
   "source": [
    "# 3. Parse the date from today_string.\n",
    "\n",
    "## Answer:"
   ]
  },
  {
   "cell_type": "code",
   "execution_count": 15,
   "id": "902d2368",
   "metadata": {},
   "outputs": [
    {
     "data": {
      "text/plain": [
       "'29'"
      ]
     },
     "execution_count": 15,
     "metadata": {},
     "output_type": "execute_result"
    }
   ],
   "source": [
    "today_string[-2:]"
   ]
  },
  {
   "cell_type": "markdown",
   "id": "420da46a",
   "metadata": {},
   "source": [
    "# 4. List the files in your current directory\n",
    "\n",
    "## Answer:"
   ]
  },
  {
   "cell_type": "code",
   "execution_count": 16,
   "id": "eded016e",
   "metadata": {},
   "outputs": [],
   "source": [
    "import os"
   ]
  },
  {
   "cell_type": "code",
   "execution_count": 19,
   "id": "6f1ee16a",
   "metadata": {},
   "outputs": [
    {
     "name": "stdout",
     "output_type": "stream",
     "text": [
      ".ipynb_checkpoints\n",
      "Assignment_21.docx\n",
      "Python Basic Assignment_Assignment-21.ipynb\n",
      "today.txt\n"
     ]
    }
   ],
   "source": [
    "for i in os.listdir():\n",
    "    \n",
    "    print(i)"
   ]
  },
  {
   "cell_type": "markdown",
   "id": "bf667870",
   "metadata": {},
   "source": [
    "# 5. Create a list of all of the files in your parent directory (minimum five files should be available).\n",
    "\n",
    "## Answer:"
   ]
  },
  {
   "cell_type": "code",
   "execution_count": 8,
   "id": "a1152739",
   "metadata": {},
   "outputs": [],
   "source": [
    "for i in range(1, 6):\n",
    "    \n",
    "    file = open(\"test\"+ str(i) +'.txt', 'w')\n",
    "    \n",
    "    file.write(\"Test file has been created\")\n",
    "    \n",
    "    file.close()"
   ]
  },
  {
   "cell_type": "markdown",
   "id": "6464142b",
   "metadata": {},
   "source": [
    "# 6. Use multiprocessing to create three separate processes. Make each one wait a random number of seconds between one and five, print the current time, and then exit.\n",
    "\n",
    "## Answer:"
   ]
  },
  {
   "cell_type": "code",
   "execution_count": 24,
   "id": "2bd2a0d2",
   "metadata": {},
   "outputs": [
    {
     "name": "stdout",
     "output_type": "stream",
     "text": [
      "Finished in 0.12 Seconds\n"
     ]
    }
   ],
   "source": [
    "import multiprocessing\n",
    "import random\n",
    "import time\n",
    "\n",
    "start = time.perf_counter()\n",
    "\n",
    "def do_something():\n",
    "    \n",
    "    #start = time.perf_counter()\n",
    "    \n",
    "    print('Waiting for Random time between 1 to 5 Seconds')\n",
    "    \n",
    "    time.sleep(random.randint(1,5))\n",
    "    \n",
    "    print('Done Waiting between 1 to 5 seconds')\n",
    "\n",
    "p1=multiprocessing.Process(target=do_something)\n",
    "p2=multiprocessing.Process(target=do_something)\n",
    "p3=multiprocessing.Process(target=do_something)\n",
    "\n",
    "p1.start()\n",
    "p2.start()\n",
    "p3.start()\n",
    "\n",
    "p1.join()\n",
    "p2.join()\n",
    "p3.join()\n",
    "\n",
    "finish = time.perf_counter()\n",
    "\n",
    "print(f'Finished in {round(finish-start, 2)} Seconds')"
   ]
  },
  {
   "cell_type": "markdown",
   "id": "4f0babc1",
   "metadata": {},
   "source": [
    "# 7. Create a date object of your day of birth.\n",
    "\n",
    "## Answer:"
   ]
  },
  {
   "cell_type": "code",
   "execution_count": 51,
   "id": "2771f801",
   "metadata": {},
   "outputs": [],
   "source": [
    "date = '20 07 1985'"
   ]
  },
  {
   "cell_type": "markdown",
   "id": "0902563c",
   "metadata": {},
   "source": [
    "# 8. What day of the week was your day of birth?\n",
    "\n",
    "## Answer:"
   ]
  },
  {
   "cell_type": "code",
   "execution_count": 52,
   "id": "211d6742",
   "metadata": {},
   "outputs": [],
   "source": [
    "import datetime\n",
    "import calendar\n",
    " \n",
    "def findDay(date):\n",
    "    born = datetime.datetime.strptime(date, '%d %m %Y').weekday()\n",
    "    return (calendar.day_name[born])"
   ]
  },
  {
   "cell_type": "code",
   "execution_count": 53,
   "id": "40141af1",
   "metadata": {},
   "outputs": [
    {
     "name": "stdout",
     "output_type": "stream",
     "text": [
      "Saturday\n"
     ]
    }
   ],
   "source": [
    "print(findDay(date))"
   ]
  },
  {
   "cell_type": "markdown",
   "id": "5c00ebc5",
   "metadata": {},
   "source": [
    "# 9. When will you be (or when were you) 10,000 days old?\n",
    "\n",
    "## Answer:"
   ]
  },
  {
   "cell_type": "code",
   "execution_count": 68,
   "id": "d3a62c1a",
   "metadata": {},
   "outputs": [
    {
     "name": "stdout",
     "output_type": "stream",
     "text": [
      "I will be 10000 Days Older on the Date:  2012-12-05\n"
     ]
    }
   ],
   "source": [
    "from datetime import date, timedelta\n",
    "\n",
    "DOB = date(1985, 7, 20)\n",
    "\n",
    "Date_After_10000_Days = (DOB + timedelta(days=10000)).isoformat() \n",
    "\n",
    "print(\"I will be 10000 Days Older on the Date: \",Date_After_10000_Days)"
   ]
  }
 ],
 "metadata": {
  "kernelspec": {
   "display_name": "Python 3",
   "language": "python",
   "name": "python3"
  },
  "language_info": {
   "codemirror_mode": {
    "name": "ipython",
    "version": 3
   },
   "file_extension": ".py",
   "mimetype": "text/x-python",
   "name": "python",
   "nbconvert_exporter": "python",
   "pygments_lexer": "ipython3",
   "version": "3.8.8"
  }
 },
 "nbformat": 4,
 "nbformat_minor": 5
}
