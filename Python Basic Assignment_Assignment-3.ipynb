{
 "cells": [
  {
   "cell_type": "markdown",
   "id": "bd634387",
   "metadata": {},
   "source": [
    "# 1. Why are functions advantageous to have in your programs?\n",
    "\n",
    "## ANS-:\n",
    "\n",
    "#### Functions reduce the need for duplicate code. This makes programs shorter, easier to read, and easier to update."
   ]
  },
  {
   "cell_type": "markdown",
   "id": "1d9121f0",
   "metadata": {},
   "source": [
    "# 2. When does the code in a function run: when it's specified or when it's called?\n",
    "\n",
    "## ANS-2:\n",
    "\n",
    "#### The code in a function runs when its called."
   ]
  },
  {
   "cell_type": "markdown",
   "id": "9258e245",
   "metadata": {},
   "source": [
    "# 3. What statement creates a function?\n",
    "\n",
    "## ANS-3:\n",
    "\n",
    "#### \"def\" keyword is a statement which use to define a function in python. You start a function with the def keyword, specify a name followed by a colon (:) sign."
   ]
  },
  {
   "cell_type": "markdown",
   "id": "a1499ca4",
   "metadata": {},
   "source": [
    "# 4. What is the difference between a function and a function call?\n",
    "\n",
    "## ANS-4:\n",
    "\n",
    "#### A function is a block of code that does a particular operation and returns a result. It usually accepts inputs as parameters and returns a result. The parameters are not mandatory.\n",
    "#### However, A function call is the code used to pass control to a function."
   ]
  },
  {
   "cell_type": "markdown",
   "id": "125306f4",
   "metadata": {},
   "source": [
    "# 5. How many global scopes are there in a Python program? How many local scopes?\n",
    "\n",
    "## ANS-5:\n",
    "\n",
    "#### There's only one global Python scope per program execution. This scope remains in existence until the program terminates and all its names are forgotten.\n",
    "#### However, local scopes are as many as number of function calls."
   ]
  },
  {
   "cell_type": "markdown",
   "id": "447ffe6f",
   "metadata": {},
   "source": [
    "# 6. What happens to variables in a local scope when the function call returns?\n",
    "\n",
    "## ANS-6:\n",
    "\n",
    "#### When the execution of the function terminates (returns), the local variables are destroyed."
   ]
  },
  {
   "cell_type": "markdown",
   "id": "5736172f",
   "metadata": {},
   "source": [
    "# 7. What is the concept of a return value? Is it possible to have a return value in an expression?\n",
    "\n",
    "## ANS-7:\n",
    "\n",
    "#### return value is the value that a function returns to the calling script or function when it completes its task.\n",
    "#### If the return statement is without any expression, then the special value None is returned."
   ]
  },
  {
   "cell_type": "markdown",
   "id": "05d44a9e",
   "metadata": {},
   "source": [
    "# 8. If a function does not have a return statement, what is the return value of a call to that function?\n",
    "\n",
    "## ANS-8:\n",
    "\n",
    "#### If there are no return statements, then it returns None."
   ]
  },
  {
   "cell_type": "markdown",
   "id": "e9dde649",
   "metadata": {},
   "source": [
    "# 9. How do you make a function variable refer to the global variable?\n",
    "\n",
    "## ANS-9:\n",
    "\n",
    "#### If you want to refer to a global variable in a function, you can use the global keyword to declare which variables are global."
   ]
  },
  {
   "cell_type": "markdown",
   "id": "88535da4",
   "metadata": {},
   "source": [
    "# 10. What is the data type of None?\n",
    "\n",
    "## ANS-10:\n",
    "\n",
    "#### The None keyword is used to define a null value, or no value at all. None is a data type of its own (NoneType) and only None can be None."
   ]
  },
  {
   "cell_type": "markdown",
   "id": "2c59939e",
   "metadata": {},
   "source": [
    "# 11. What does the sentence import areallyourpetsnamederic do?\n",
    "\n",
    "## ANS-11:\n",
    "\n",
    "#### That import statement imports a module named areallyourpetsnamederic ."
   ]
  },
  {
   "cell_type": "markdown",
   "id": "50684582",
   "metadata": {},
   "source": [
    "# 12. If you had a bacon() feature in a spam module, what would you call it after importing spam?\n",
    "\n",
    "## ANS-12:\n",
    "\n",
    "#### We will call spam.bacon() after importing spam."
   ]
  },
  {
   "cell_type": "markdown",
   "id": "d90d54a9",
   "metadata": {},
   "source": [
    "# 13. What can you do to save a programme from crashing if it encounters an error?\n",
    "\n",
    "## ANS-13:\n",
    "\n",
    "#### error handling can be used to notify the user of why the error occurred and gracefully exit the process that caused the error."
   ]
  },
  {
   "cell_type": "markdown",
   "id": "06e25a08",
   "metadata": {},
   "source": [
    "# 14. What is the purpose of the try clause? What is the purpose of the except clause?\n",
    "\n",
    "## ANS-14:\n",
    "\n",
    "#### The try block lets us to test a block of code for errors. The except block lets us to handle the error"
   ]
  }
 ],
 "metadata": {
  "kernelspec": {
   "display_name": "Python 3",
   "language": "python",
   "name": "python3"
  },
  "language_info": {
   "codemirror_mode": {
    "name": "ipython",
    "version": 3
   },
   "file_extension": ".py",
   "mimetype": "text/x-python",
   "name": "python",
   "nbconvert_exporter": "python",
   "pygments_lexer": "ipython3",
   "version": "3.8.8"
  }
 },
 "nbformat": 4,
 "nbformat_minor": 5
}
