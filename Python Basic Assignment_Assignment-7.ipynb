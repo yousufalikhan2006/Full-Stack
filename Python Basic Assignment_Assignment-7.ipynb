{
 "cells": [
  {
   "cell_type": "markdown",
   "id": "b4adca51",
   "metadata": {},
   "source": [
    "# 1. What is the name of the feature responsible for generating Regex objects?\n",
    "\n",
    "## Answer-1:\n",
    "\n",
    "#### The re.compile() function returns Regex objects."
   ]
  },
  {
   "cell_type": "markdown",
   "id": "e5cca652",
   "metadata": {},
   "source": [
    "# 2. Why do raw strings often appear in Regex objects?\n",
    "\n",
    "## Answer-2:\n",
    "\n",
    "#### Python raw string treats backslash \\ as a literal character. This is useful when we want to have a string that contains backslash and don't want it to be treated as an escape character."
   ]
  },
  {
   "cell_type": "markdown",
   "id": "c5e941b1",
   "metadata": {},
   "source": [
    "# 3. What is the return value of the search() method?\n",
    "\n",
    "## Answer-3:\n",
    "\n",
    "#### The search() method returns Match objects."
   ]
  },
  {
   "cell_type": "markdown",
   "id": "d71e42a5",
   "metadata": {},
   "source": [
    "# 4. From a Match item, how do you get the actual strings that match the pattern?\n",
    "\n",
    "## Answer-4:\n",
    "\n",
    "#### The group() method returns strings of the matched text."
   ]
  },
  {
   "cell_type": "markdown",
   "id": "6e39dfd6",
   "metadata": {},
   "source": [
    "# 5. In the regex which created from the r'(\\d\\d\\d)-(\\d\\d\\d-\\d\\d\\d\\d)', what does group zero cover? Group 2? Group 1?\n",
    "\n",
    "## Answer-5:\n",
    "\n",
    "#### Group 0 is the entire match, group 1 covers the first set of parentheses, and group 2 covers the second set of parentheses."
   ]
  },
  {
   "cell_type": "markdown",
   "id": "c6b9ff5e",
   "metadata": {},
   "source": [
    "# 6. In standard expression syntax, parentheses and intervals have distinct meanings. How can you tell a regex that you want it to fit real parentheses and periods?\n",
    "\n",
    "## Answer-6:\n",
    "\n",
    "Periods and parentheses can be escaped with a backslash: \\., \\(, and \\)."
   ]
  },
  {
   "cell_type": "markdown",
   "id": "e66b338c",
   "metadata": {},
   "source": [
    "# 7. The findall() method returns a string list or a list of string tuples. What causes it to return one of the two options?\n",
    "\n",
    "## Answer-7:\n",
    "\n",
    "#### If the regex has no groups, a list of strings is returned. If the regex has groups, a list of tuples of strings is returned."
   ]
  },
  {
   "cell_type": "markdown",
   "id": "61bd7261",
   "metadata": {},
   "source": [
    "# 8. In standard expressions, what does the | character mean?\n",
    "\n",
    "## Answer-8:\n",
    "\n",
    "#### The | character signifies matching \"either, or\" between two groups."
   ]
  },
  {
   "cell_type": "markdown",
   "id": "58b7b861",
   "metadata": {},
   "source": [
    "# 9. In regular expressions, what does the character stand for?\n",
    "\n",
    "## Answer-9:\n",
    "\n",
    "#### Which character stand for. It seems charecter not mentioned here. If you are talking about ^ character. This character means \"match zero or one of the preceding group\" or be used to signify nongreedy matching. "
   ]
  },
  {
   "cell_type": "markdown",
   "id": "f8a1c863",
   "metadata": {},
   "source": [
    "# 10.In regular expressions, what is the difference between the + and * characters?\n",
    "\n",
    "## Answer-10:\n",
    "\n",
    "#### The + matches one or more and * matches zero or more"
   ]
  },
  {
   "cell_type": "markdown",
   "id": "e7214ff1",
   "metadata": {},
   "source": [
    "# 11. What is the difference between {4} and {4,5} in regular expression?\n",
    "\n",
    "## Answer-11:\n",
    "\n",
    "#### {4} Represents a continuous number string of length 4. However, {4,5} will return from 4 to 5 inclusive."
   ]
  },
  {
   "cell_type": "markdown",
   "id": "b5be555d",
   "metadata": {},
   "source": [
    "# 12. What do you mean by the \\d, \\w, and \\s shorthand character classes signify in regular expressions?\n",
    "\n",
    "## Answer-12:\n",
    "\n",
    "#### \\d is short for digits [0-9].\n",
    "#### \\w stands for “word character”. It always matches the ASCII characters [A-Za-z0-9_]\n",
    "#### \\s stands for “whitespace character”"
   ]
  },
  {
   "cell_type": "markdown",
   "id": "168f158d",
   "metadata": {},
   "source": [
    "# 13. What do means by \\D, \\W, and \\S shorthand character classes signify in regular expressions?\n",
    "\n",
    "## Answer-13:\n",
    "\n",
    "#### \\D is negate of \\d i.e.[^\\d]\n",
    "#### \\W is negate of \\w i.e.[^\\w]\n",
    "#### \\S is negate of \\s i.e.[^\\s]"
   ]
  },
  {
   "cell_type": "markdown",
   "id": "a727b989",
   "metadata": {},
   "source": [
    "# 14. What is the difference between .*? and .*?\n",
    "\n",
    "## Answer-14:\n",
    "\n",
    "#### .* is a greedy mode, which tends to get the longest string that meets the conditions;\n",
    "#### .*? is a non-greedy mode, which tends to get the shortest string that can meet the conditions."
   ]
  },
  {
   "cell_type": "markdown",
   "id": "fc2bbaed",
   "metadata": {},
   "source": [
    "# 15. What is the syntax for matching both numbers and lowercase letters with a character class?\n",
    "\n",
    "## Answer-15:\n",
    "\n",
    "#### re.compile(r'[A-Z][a-z][0-9]')"
   ]
  },
  {
   "cell_type": "markdown",
   "id": "f0596d8e",
   "metadata": {},
   "source": [
    "# 16. What is the procedure for making a normal expression in regax case insensitive?\n",
    "\n",
    "## Answer-16:\n",
    "\n",
    "#### (?i) makes case insensitive expression."
   ]
  },
  {
   "cell_type": "markdown",
   "id": "6182c3cc",
   "metadata": {},
   "source": [
    "# 17. What does the . character normally match? What does it match if re.DOTALL is passed as 2nd argument in re.compile()?\n",
    "\n",
    "## Answer-17:\n",
    "\n",
    "#### *   representing 0 or more occurrences of the atom.\n",
    "#### If re. DOTALL is passed as the second argument to re.compile(), then the dot will also match newline characters."
   ]
  },
  {
   "cell_type": "markdown",
   "id": "dd4a7078",
   "metadata": {},
   "source": [
    "# 18. If numReg = re.compile(r'\\d+'), what will numRegex.sub('X', '11 drummers, 10 pipers, five rings, 4 hen') return?\n",
    "\n",
    "## Answer-18:\n",
    "\n",
    "#### 'X drummers, X pipers, five rings, X hen'"
   ]
  },
  {
   "cell_type": "markdown",
   "id": "057876c7",
   "metadata": {},
   "source": [
    "# 19. What does passing re.VERBOSE as the 2nd argument to re.compile() allow to do?\n",
    "\n",
    "## Answer-19:\n",
    "\n",
    "#### The re.VERBOSE argument allows you to add whitespace and comments to the string passed to re."
   ]
  },
  {
   "cell_type": "markdown",
   "id": "813961bc",
   "metadata": {},
   "source": [
    "# 20. How would you write a regex that match a number with comma for every three digits? It must match the given following:\n",
    "# '42'\n",
    "# '1,234'\n",
    "# '6,368,745'\n",
    "# but not the following:\n",
    "# '12,34,567' (which has only two digits between the commas)\n",
    "# '1234' (which lacks commas)\n",
    "\n",
    "## Answer-20:\n",
    "\n",
    "#### (^\\d{1,3}(,\\d{3})*$)"
   ]
  },
  {
   "cell_type": "markdown",
   "id": "b5017dcc",
   "metadata": {},
   "source": [
    "# 22. How would you write a regex that matches a sentence where the first word is either Alice, Bob, or Carol; the second word is either eats, pets, or throws; the third word is apples, cats, or baseballs; and the sentence ends with a period? This regex should be case-insensitive. It must match the following:\n",
    "# 'Alice eats apples.'\n",
    "# 'Bob pets cats.'\n",
    "# 'Carol throws baseballs.'\n",
    "# 'Alice throws Apples.'\n",
    "# 'BOB EATS CATS.'\n",
    "# but not the following:\n",
    "# 'RoboCop eats apples.'\n",
    "# 'ALICE THROWS FOOTBALLS.'\n",
    "# 'Carol eats 7 cats.'\n",
    "\n",
    "## Answer-22:\n",
    "\n",
    "#### pattern1=re.compile(r'(Alice|Bob|Carol)\\s+(eats|pets|throws)\\s+(apples|cats|baseballs)\\.', re.IGNORECASE)"
   ]
  }
 ],
 "metadata": {
  "kernelspec": {
   "display_name": "Python 3",
   "language": "python",
   "name": "python3"
  },
  "language_info": {
   "codemirror_mode": {
    "name": "ipython",
    "version": 3
   },
   "file_extension": ".py",
   "mimetype": "text/x-python",
   "name": "python",
   "nbconvert_exporter": "python",
   "pygments_lexer": "ipython3",
   "version": "3.8.8"
  }
 },
 "nbformat": 4,
 "nbformat_minor": 5
}
