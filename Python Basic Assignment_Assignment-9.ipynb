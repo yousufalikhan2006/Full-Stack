{
 "cells": [
  {
   "cell_type": "markdown",
   "id": "32d6efaf",
   "metadata": {},
   "source": [
    "# 1. To what does a relative path refer?\n",
    "\n",
    "## Answer-1:\n",
    "\n",
    "#### Relative paths are relative to the current working directory."
   ]
  },
  {
   "cell_type": "markdown",
   "id": "55a96751",
   "metadata": {},
   "source": [
    "# 2. What does an absolute path start with your operating system?\n",
    "\n",
    "## Answer-2:\n",
    "\n",
    "#### Absolute paths start with the root folder, such as / or C:\\."
   ]
  },
  {
   "cell_type": "markdown",
   "id": "fd5f3620",
   "metadata": {},
   "source": [
    "# 3. What do the functions os.getcwd() and os.chdir() do?\n",
    "\n",
    "## Answer-3:\n",
    "\n",
    "#### os. getcwd() method tells us the location of current working directory (CWD).\n",
    "#### whereas os.chdir() method tells us to set the current working directory to a path of our choice."
   ]
  },
  {
   "cell_type": "markdown",
   "id": "5e04f579",
   "metadata": {},
   "source": [
    "# 4. What are the . and .. folders?\n",
    "\n",
    "## Answer-4:\n",
    "\n",
    "#### The . is the current directory, while .. signifies the parent directory."
   ]
  },
  {
   "cell_type": "markdown",
   "id": "c5905ef4",
   "metadata": {},
   "source": [
    "# 5. In C:\\bacon\\eggs\\spam.txt, which part is the dir name, and which part is the base name?\n",
    "\n",
    "## ANswer-5:\n",
    "\n",
    "#### C:\\bacon\\eggs is the dir name, while spam.txt is the base name."
   ]
  },
  {
   "cell_type": "markdown",
   "id": "bd335b0b",
   "metadata": {},
   "source": [
    "# 6. What are the three “mode” arguments that can be passed to the open() function?\n",
    "\n",
    "## Answer-6:\n",
    "\n",
    "#### The string 'r' for read mode, 'w' for write mode, and 'a' for append mode"
   ]
  },
  {
   "cell_type": "markdown",
   "id": "63f46197",
   "metadata": {},
   "source": [
    "# 7. What happens if an existing file is opened in write mode?\n",
    "\n",
    "## Answer-7:\n",
    "\n",
    "#### An existing file opened in write mode is erased and completely overwritten."
   ]
  },
  {
   "cell_type": "markdown",
   "id": "03859585",
   "metadata": {},
   "source": [
    "# 8. How do you tell the difference between read() and readlines()?\n",
    "\n",
    "## Answer-8:\n",
    "\n",
    "#### The read() method returns the file's entire contents as a single string value. The readlines() method returns a list of strings, where each string is a line from the file's contents."
   ]
  },
  {
   "cell_type": "markdown",
   "id": "891895db",
   "metadata": {},
   "source": [
    "# 9. What data structure does a shelf value resemble?\n",
    "\n",
    "## Answer-9:\n",
    "\n",
    "#### A shelf value resembles a directory value. it has keys and values, along with keys() and values() methods that work similarly to the dictionary methods of the same name."
   ]
  }
 ],
 "metadata": {
  "kernelspec": {
   "display_name": "Python 3",
   "language": "python",
   "name": "python3"
  },
  "language_info": {
   "codemirror_mode": {
    "name": "ipython",
    "version": 3
   },
   "file_extension": ".py",
   "mimetype": "text/x-python",
   "name": "python",
   "nbconvert_exporter": "python",
   "pygments_lexer": "ipython3",
   "version": "3.8.8"
  }
 },
 "nbformat": 4,
 "nbformat_minor": 5
}
