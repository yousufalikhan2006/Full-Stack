{
 "cells": [
  {
   "cell_type": "markdown",
   "id": "590ce620",
   "metadata": {},
   "source": [
    "# 1. What does RGBA stand for?\n",
    "\n",
    "## Answer:\n",
    "\n",
    "#### RGBA stands for Red, Green, Blue, Alpha. An RGBA value is a group of numbers that specify the amount of red, green, blue, and alpha (or transparency) in a color."
   ]
  },
  {
   "cell_type": "markdown",
   "id": "cd23d16b",
   "metadata": {},
   "source": [
    "# 2. From the Pillow module, how do you get the RGBA value of any images?\n",
    "\n",
    "## Answer:\n",
    "\n",
    "#### Pillow module offers the ImageColor.getcolor() function. This function takes a color name string as its first argument, and the string 'RGBA' as its second argument, and it returns an RGBA tuple."
   ]
  },
  {
   "cell_type": "markdown",
   "id": "60d16be9",
   "metadata": {},
   "source": [
    "# 3. What is a box tuple, and how does it work?\n",
    "\n",
    "## Answer:\n",
    "\n",
    "#### Many of Pillow’s functions and methods take a box tuple argument. This means Pillow is expecting a tuple of four integer coordinates that represent a rectangular region in an image. The four integers are, in order, as follows:\n",
    "#### Left: The x-coordinate of the leftmost edge of the box.\n",
    "#### Top: The y-coordinate of the top edge of the box.\n",
    "#### Right: The x-coordinate of one pixel to the right of the rightmost edge of the box. This integer must be greater than the left integer.\n",
    "#### Bottom: The y-coordinate of one pixel lower than the bottom edge of the box. This integer must be greater than the top integer.\n",
    "\n",
    "### Note that the box includes the left and top coordinates and goes up to but does not include the right and bottom coordinates."
   ]
  },
  {
   "cell_type": "markdown",
   "id": "9fd9e39a",
   "metadata": {},
   "source": [
    "# 4. Use your image and load in notebook then, How can you find out the width and height of an Image object?\n",
    "\n",
    "## Answer:\n",
    "\n",
    "#### open file and store in any variable then call variable.size (A size attribute). It will return tuple with two values where 1st value will refer to \"width\" and second to \"height\". e.g.\n",
    "\n",
    "#### from PIL import Image\n",
    "#### catIm = Image.open(filename_image)\n",
    "#### catIm.size\n",
    "#### (816, 1088)\n",
    "#### width, height = catIm.size\n",
    "#### width\n",
    "#### 816\n",
    "#### height\n",
    "#### 1088"
   ]
  },
  {
   "cell_type": "markdown",
   "id": "300a42df",
   "metadata": {},
   "source": [
    "# 5. What method would you call to get Image object for a 100×100 image, excluding the lower-left quarter of it?\n",
    "\n",
    "## Answer:\n",
    "\n",
    "#### crop() method would like to call."
   ]
  },
  {
   "cell_type": "markdown",
   "id": "e490fc7b",
   "metadata": {},
   "source": [
    "# 6. After making changes to an Image object, how could you save it as an image file?\n",
    "\n",
    "## Answer:\n",
    "\n",
    "#### Before saving the image object, we call paste() twice on image object, passing (X1, Y1) the first time and (X2, Y2) the second time. Finally, we save the modified image object to a file."
   ]
  },
  {
   "cell_type": "markdown",
   "id": "77f1a091",
   "metadata": {},
   "source": [
    "# 7. What module contains Pillow’s shape-drawing code?\n",
    "\n",
    "## Answer:\n",
    "\n",
    "#### 'ImageDraw' module."
   ]
  }
 ],
 "metadata": {
  "kernelspec": {
   "display_name": "Python 3",
   "language": "python",
   "name": "python3"
  },
  "language_info": {
   "codemirror_mode": {
    "name": "ipython",
    "version": 3
   },
   "file_extension": ".py",
   "mimetype": "text/x-python",
   "name": "python",
   "nbconvert_exporter": "python",
   "pygments_lexer": "ipython3",
   "version": "3.8.8"
  }
 },
 "nbformat": 4,
 "nbformat_minor": 5
}
