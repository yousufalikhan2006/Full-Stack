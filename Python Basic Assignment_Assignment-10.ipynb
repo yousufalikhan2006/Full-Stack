{
 "cells": [
  {
   "cell_type": "markdown",
   "id": "ae573f25",
   "metadata": {},
   "source": [
    "# 1. How do you distinguish between shutil.copy() and shutil.copytree()?\n",
    "\n",
    "## Answer-1:\n",
    "\n",
    "#### shutil.copy() will copy a single file, shutil.copytree() will copy an entire folder and every folder and file contained in it."
   ]
  },
  {
   "cell_type": "markdown",
   "id": "42b1b46f",
   "metadata": {},
   "source": [
    "# 2. What function is used to rename files??\n",
    "\n",
    "## Answer-2:\n",
    "\n",
    "#### The os.rename() method allows us to rename files in Python."
   ]
  },
  {
   "cell_type": "markdown",
   "id": "46296e0f",
   "metadata": {},
   "source": [
    "# 3. What is the difference between the delete functions in the send2trash and shutil modules?\n",
    "\n",
    "## Answer-3:\n",
    "\n",
    "#### With the send2trash module, files and/or folders are deleted and sent to the computer's recycle bin. Therefore, if any mistakes were made in the deletion process, they can be undone by using restore in the recycle bin. whereas, deleting with shutil module we can't retreive the files/folders once deleted."
   ]
  },
  {
   "cell_type": "markdown",
   "id": "7df8feb4",
   "metadata": {},
   "source": [
    "# 4.ZipFile objects have a close() method just like File objects’ close() method. What ZipFile method is equivalent to File objects’ open() method?\n",
    "\n",
    "## Answer-4:\n",
    "\n",
    "#### ZipFile.OpenRead(String) Method is equivalent to File objects’ open() method."
   ]
  },
  {
   "cell_type": "markdown",
   "id": "7f264954",
   "metadata": {},
   "source": [
    "# 5. Create a programme that searches a folder tree for files with a certain file extension (such as .pdf or .jpg). Copy these files from whatever location they are in to a new folder.\n",
    "\n",
    "## Answer-5:\n",
    "\n",
    "#### \n",
    "###### import os, shutil\n",
    "\n",
    "###### def selectiveCopy(folder, extensions, destFolder):\n",
    "###### \tfolder = os.path.abspath(folder)\n",
    "###### \tdestFolder = os.path.abspath(destFolder)\n",
    "###### \tprint('Looking in', folder, 'for files with extensions of', ', '.join(extensions))\n",
    "###### \tfor foldername, subfolders, filenames in os.walk(folder):\n",
    "###### \t\tfor filename in filenames:\n",
    "###### \t\t\tname, extension = os.path.splitext(filename)\n",
    "###### \t\t\tif extension in extensions:\n",
    "###### \t\t\t\tfileAbsPath = foldername + os.path.sep + filename\n",
    "###### \t\t\t\tprint('Coping', fileAbsPath, 'to', destFolder)\n",
    "###### \t\t\t\tshutil.copy(fileAbsPath, destFolder)\n",
    "\n",
    "###### extensions = ['.csv', '.py']\n",
    "###### folder = 'randomFolder'\n",
    "###### destFolder = 'selectiveFolder'\n",
    "###### selectiveCopy(folder, extensions, destFolder)"
   ]
  },
  {
   "cell_type": "code",
   "execution_count": null,
   "id": "ac3cedfb",
   "metadata": {},
   "outputs": [],
   "source": []
  }
 ],
 "metadata": {
  "kernelspec": {
   "display_name": "Python 3",
   "language": "python",
   "name": "python3"
  },
  "language_info": {
   "codemirror_mode": {
    "name": "ipython",
    "version": 3
   },
   "file_extension": ".py",
   "mimetype": "text/x-python",
   "name": "python",
   "nbconvert_exporter": "python",
   "pygments_lexer": "ipython3",
   "version": "3.8.8"
  }
 },
 "nbformat": 4,
 "nbformat_minor": 5
}
