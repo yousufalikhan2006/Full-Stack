{
 "cells": [
  {
   "cell_type": "markdown",
   "id": "1c0437cd",
   "metadata": {},
   "source": [
    "# 1. What advantages do Excel spreadsheets have over CSV spreadsheets?\n",
    "\n",
    "## Answer:\n",
    "\n",
    "#### Excel can per perform operations on data but csv can't.\n",
    "#### Excel also allows to the user to add-in feature."
   ]
  },
  {
   "cell_type": "markdown",
   "id": "6b236d5f",
   "metadata": {},
   "source": [
    "# 2.What do you pass to csv.reader() and csv.writer() to create reader and writer objects?\n",
    "\n",
    "## Answer:\n",
    "\n",
    "#### We will pass the file name to create reader and write objects. e.g. csv.reader(filename) & csv.writer(filename)"
   ]
  },
  {
   "cell_type": "markdown",
   "id": "efe51afc",
   "metadata": {},
   "source": [
    "# 3. What modes do File objects for reader and writer objects need to be opened in?\n",
    "\n",
    "## Answer:\n",
    "\n",
    "#### For reader objects, file objects should be open in 'r' (read) mode.\n",
    "#### However, For writer objects, file objects should be open in 'w' (write) mode."
   ]
  },
  {
   "cell_type": "markdown",
   "id": "e825137c",
   "metadata": {},
   "source": [
    "# 4. What method takes a list argument and writes it to a CSV file?\n",
    "\n",
    "## Answer:\n",
    "\n",
    "#### .writerow() method takes a list of arguments and writes it to the CSV file."
   ]
  },
  {
   "cell_type": "markdown",
   "id": "fd8a0dd7",
   "metadata": {},
   "source": [
    "# 5. What do the keyword arguments delimiter and line terminator do?\n",
    "\n",
    "## Answer:\n",
    "\n",
    "#### delimiter is the character that appears between cells on a row. By default, the delimiter for a CSV file is a comma. \n",
    "#### whereas, The line terminator is the character that comes at the end of a row. By default, the line terminator is a newline. \n",
    "### You can change characters to different values by using the delimiter and lineterminator keyword arguments."
   ]
  },
  {
   "cell_type": "markdown",
   "id": "edf9ed2a",
   "metadata": {},
   "source": [
    "# 6. What function takes a string of JSON data and returns a Python data structure?\n",
    "\n",
    "## Answer:\n",
    "\n",
    "#### loads() method returns a Python data structure of JSON string."
   ]
  },
  {
   "cell_type": "markdown",
   "id": "a467bc87",
   "metadata": {},
   "source": [
    "# 7. What function takes a Python data structure and returns a string of JSON data?\n",
    "\n",
    "## Answer:\n",
    "\n",
    "#### dumps() takes a Python data structure and returns a string of JSON data."
   ]
  }
 ],
 "metadata": {
  "kernelspec": {
   "display_name": "Python 3",
   "language": "python",
   "name": "python3"
  },
  "language_info": {
   "codemirror_mode": {
    "name": "ipython",
    "version": 3
   },
   "file_extension": ".py",
   "mimetype": "text/x-python",
   "name": "python",
   "nbconvert_exporter": "python",
   "pygments_lexer": "ipython3",
   "version": "3.8.8"
  }
 },
 "nbformat": 4,
 "nbformat_minor": 5
}
