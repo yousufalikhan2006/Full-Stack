{
 "cells": [
  {
   "cell_type": "markdown",
   "id": "51e77cb3",
   "metadata": {},
   "source": [
    "# 1. Is the Python Standard Library included with PyInputPlus?\n",
    "\n",
    "## Answer-1:\n",
    "\n",
    "#### Python standard libarary doesn't include PyInputPlus module by default. However, we could install using pip command."
   ]
  },
  {
   "cell_type": "markdown",
   "id": "ace77298",
   "metadata": {},
   "source": [
    "# 2. Why is PyInputPlus commonly imported with import pyinputplus as pypi?\n",
    "\n",
    "## Answer-2:\n",
    "\n",
    "#### We use import the module with import pyinputplus as pypi so that we can enter a shorter name when calling the module's functions. PyInputPlus has functions for entering a variety of input, including strings, numbers, dates, yes/no, True/False, emails, and files."
   ]
  },
  {
   "cell_type": "markdown",
   "id": "ef6b0aa8",
   "metadata": {},
   "source": [
    "# 3. How do you distinguish between inputInt() and inputFloat()?\n",
    "\n",
    "## Answer-3:\n",
    "\n",
    "#### inputInt() accepts an integer value and return an int. However, inputFloat()accepts an integer value and return a float."
   ]
  },
  {
   "cell_type": "markdown",
   "id": "1f50fbc5",
   "metadata": {},
   "source": [
    "# 4. Using PyInputPlus, how do you ensure that the user enters a whole number between 0 and 99?\n",
    "\n",
    "## Answer-4:\n",
    "\n",
    "#### By using inbulit method inputInt() and passing min and max parameter. For Example:\n",
    "#### pyip.inputInt(prompt = \"Enter an Integer... \", min=0, max = 99 )"
   ]
  },
  {
   "cell_type": "markdown",
   "id": "ad1702e1",
   "metadata": {},
   "source": [
    "# 5. What is transferred to the keyword arguments allowRegexes and blockRegexes?\n",
    "\n",
    "## Answer-5:\n",
    "\n",
    "#### The allowRegexes and blockRegexes keyword arguments take a list of regular expression strings to determine what the PyInputPlus function will accept or reject as valid input."
   ]
  },
  {
   "cell_type": "markdown",
   "id": "29a3b022",
   "metadata": {},
   "source": [
    "# 6. If a blank input is entered three times, what does inputStr(limit=3) do?\n",
    "\n",
    "## Answer-6:\n",
    "\n",
    "#### It will through an error--->RetryLimitException"
   ]
  },
  {
   "cell_type": "markdown",
   "id": "33f4d86a",
   "metadata": {},
   "source": [
    "# 7. If blank input is entered three times, what does inputStr(limit=3, default='hello') do?\n",
    "\n",
    "## Answer-7:\n",
    "\n",
    "#### It will print ---> hello"
   ]
  }
 ],
 "metadata": {
  "kernelspec": {
   "display_name": "Python 3",
   "language": "python",
   "name": "python3"
  },
  "language_info": {
   "codemirror_mode": {
    "name": "ipython",
    "version": 3
   },
   "file_extension": ".py",
   "mimetype": "text/x-python",
   "name": "python",
   "nbconvert_exporter": "python",
   "pygments_lexer": "ipython3",
   "version": "3.8.8"
  }
 },
 "nbformat": 4,
 "nbformat_minor": 5
}
