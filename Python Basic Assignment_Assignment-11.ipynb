{
 "cells": [
  {
   "cell_type": "markdown",
   "id": "ef6748ee",
   "metadata": {},
   "source": [
    "# 1. Create an assert statement that throws an AssertionError if the variable spam is a negative integer.\n",
    "\n",
    "## Answer:\n",
    "\n",
    "#### assert spam >= 0, 'The variable spam is less than zero'"
   ]
  },
  {
   "cell_type": "markdown",
   "id": "20c13722",
   "metadata": {},
   "source": [
    "# 2. Write an assert statement that triggers an AssertionError if the variables eggs and bacon contain strings that are the same as each other, even if their cases are different (that is, 'hello' and 'hello' are considered the same, and 'goodbye' and 'GOODbye' are also considered the same).\n",
    "\n",
    "## Answer:\n",
    "\n",
    "#### assert eggs.lower() != bacon.lower(), \"Both the varibles eggs and bacon should not contain the same string\""
   ]
  },
  {
   "cell_type": "markdown",
   "id": "f102b5a6",
   "metadata": {},
   "source": [
    "# 3. Create an assert statement that throws an AssertionError every time.\n",
    "\n",
    "## Answer:\n",
    "\n",
    "#### assert False, 'Assert will through error evrey time if we put assert then False'"
   ]
  },
  {
   "cell_type": "markdown",
   "id": "e0029d3e",
   "metadata": {},
   "source": [
    "# 4. What are the two lines that must be present in your software in order to call logging.debug()?\n",
    "\n",
    "## Answer:\n",
    "\n",
    "#### import logging\n",
    "#### logging.basicConfig(level=logging.DEBUG, format='%(asctime)s - %(levelname)s - %(message)s')"
   ]
  },
  {
   "cell_type": "markdown",
   "id": "739c9c6c",
   "metadata": {},
   "source": [
    "# 5. What are the two lines that your program must have in order to have logging.debug() send a logging message to a file named programLog.txt?\n",
    "\n",
    "## Answer:\n",
    "\n",
    "#### import logging\n",
    "#### logging.basicConfig(filename='programLog.txt', level=logging.DEBUG, format='%(asctime)s - %(levelname)s - %(message)s')"
   ]
  },
  {
   "cell_type": "markdown",
   "id": "311ddcd5",
   "metadata": {},
   "source": [
    "# 6. What are the five levels of logging?\n",
    "\n",
    "## Answer:\n",
    "\n",
    "#### DEBUG\n",
    "#### INFO\n",
    "#### WARNING\n",
    "#### ERROR\n",
    "#### CRITICAL"
   ]
  },
  {
   "cell_type": "markdown",
   "id": "569d4a08",
   "metadata": {},
   "source": [
    "# 7. What line of code would you add to your software to disable all logging messages?\n",
    "\n",
    "## Answer:\n",
    "\n",
    "#### logging.disable(logging.CRITICAL)"
   ]
  },
  {
   "cell_type": "markdown",
   "id": "fc6446ee",
   "metadata": {},
   "source": [
    "# 8.Why is using logging messages better than using print() to display the same message?\n",
    "\n",
    "## Answer:\n",
    "\n",
    "#### Logging messages giving us more flexibilities as compare to print() method. You can disable logging messages without removing function call. Secondly, you can disable lower level logging as well. Also, logging messages can provide time stamp."
   ]
  },
  {
   "cell_type": "markdown",
   "id": "6ad3d638",
   "metadata": {},
   "source": [
    "# 9. What are the differences between the Step Over, Step In, and Step Out buttons in the debugger?\n",
    "\n",
    "## Answer:\n",
    "\n",
    "#### Step Over- The Step Over button will quickly execute the function call without stepping into it.\n",
    "#### Step In- The Step In button will move the debugger into a function call.\n",
    "#### Step Out- The Step Out button will quickly execute the rest of the code until it steps out of the function it currently is in."
   ]
  },
  {
   "cell_type": "markdown",
   "id": "1f9933cf",
   "metadata": {},
   "source": [
    "# 10.After you click Continue, when will the debugger stop ?\n",
    "\n",
    "## Answer:\n",
    "\n",
    "#### Continue will continue the execution until a breakpoint is found."
   ]
  },
  {
   "cell_type": "markdown",
   "id": "eed4b64d",
   "metadata": {},
   "source": [
    "# 11. What is the concept of a breakpoint?\n",
    "\n",
    "## Answer:\n",
    "\n",
    "#### breakpoint is a setting on a line of code that causes the debugger to pause when the program execution reaches the line"
   ]
  }
 ],
 "metadata": {
  "kernelspec": {
   "display_name": "Python 3",
   "language": "python",
   "name": "python3"
  },
  "language_info": {
   "codemirror_mode": {
    "name": "ipython",
    "version": 3
   },
   "file_extension": ".py",
   "mimetype": "text/x-python",
   "name": "python",
   "nbconvert_exporter": "python",
   "pygments_lexer": "ipython3",
   "version": "3.8.8"
  }
 },
 "nbformat": 4,
 "nbformat_minor": 5
}
