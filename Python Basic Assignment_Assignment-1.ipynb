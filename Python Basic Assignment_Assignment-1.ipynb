{
 "cells": [
  {
   "cell_type": "markdown",
   "id": "5dcf4efb",
   "metadata": {},
   "source": [
    "# Answer-1\n",
    "\n",
    "## Values Are: 'hello', -87.8, 6 \n",
    "    \n",
    "## expressions Are: * , - , / , +"
   ]
  },
  {
   "cell_type": "markdown",
   "id": "982f427b",
   "metadata": {},
   "source": [
    "# Answer-2\n",
    "\n",
    "## A Variable is a store of information, and a String is a type of information you would store in a Variable."
   ]
  },
  {
   "cell_type": "markdown",
   "id": "db18a7db",
   "metadata": {},
   "source": [
    "# ANSWER-3\n",
    "\n",
    "## The three or more different data types in Python are: Integer, Float, String, Dictionary, touple etc..."
   ]
  },
  {
   "cell_type": "markdown",
   "id": "c5296023",
   "metadata": {},
   "source": [
    "# ANSWER-4\n",
    "\n",
    "### An expression is a construct made up of variables, operators, and method invocations, which are constructed according to the syntax of the language, that evaluates to a single value. ... As you can see from the other expressions, an expression can return other types of values as well, such as boolean or String ."
   ]
  },
  {
   "cell_type": "markdown",
   "id": "c6f96914",
   "metadata": {},
   "source": [
    "# Answer-5\n",
    "\n",
    "### An expression evaluates to a value. A statement does something. Statements represent an action or command e.g print statements, assignment statements. Expression is a combination of variables, operations and values that yields a result value."
   ]
  },
  {
   "cell_type": "markdown",
   "id": "afc9b741",
   "metadata": {},
   "source": [
    "# Answer-6\n",
    "\n",
    "### It will hold the value: 20"
   ]
  },
  {
   "cell_type": "markdown",
   "id": "cbf3b407",
   "metadata": {},
   "source": [
    "# Answer-7\n",
    "\n",
    "### The values will be as below:\n",
    "\n",
    "#### 'spamspamspam'\n",
    "#### 'spamspamspam'"
   ]
  },
  {
   "cell_type": "markdown",
   "id": "36f9d85e",
   "metadata": {},
   "source": [
    "# Answer-8\n",
    "\n",
    "### Variable name can't be started with integer number. Hence, Eggs is valid varible and 100 is not."
   ]
  },
  {
   "cell_type": "markdown",
   "id": "5ad32f8a",
   "metadata": {},
   "source": [
    "# Answer-9\n",
    "\n",
    "### The int(), float(), and str() functions will evaluate to the integer, floating-point number, and string versions of the value passed to them."
   ]
  },
  {
   "cell_type": "markdown",
   "id": "4229a6d7",
   "metadata": {},
   "source": [
    "# Answer-10\n",
    "\n",
    "### Expression-->'I have eaten ' + 99 + ' burritos.' causes error because 99 is an integer, and only strings can be concatenated to other strings with the + operator."
   ]
  }
 ],
 "metadata": {
  "kernelspec": {
   "display_name": "Python 3",
   "language": "python",
   "name": "python3"
  },
  "language_info": {
   "codemirror_mode": {
    "name": "ipython",
    "version": 3
   },
   "file_extension": ".py",
   "mimetype": "text/x-python",
   "name": "python",
   "nbconvert_exporter": "python",
   "pygments_lexer": "ipython3",
   "version": "3.8.8"
  }
 },
 "nbformat": 4,
 "nbformat_minor": 5
}
