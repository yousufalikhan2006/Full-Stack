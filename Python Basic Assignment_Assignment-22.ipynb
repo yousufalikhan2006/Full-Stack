{
 "cells": [
  {
   "cell_type": "markdown",
   "metadata": {},
   "source": [
    "# 1. What is the result of the code, and explain?\n",
    "\n",
    "\n",
    "###### >>> X = 'iNeuron'\n",
    "###### >>> def func():\n",
    "###### print(X)\n",
    "\n",
    "\n",
    "###### >>> func()\n",
    "\n",
    "## Answer:"
   ]
  },
  {
   "cell_type": "code",
   "execution_count": 7,
   "metadata": {},
   "outputs": [],
   "source": [
    "X = 'iNeuron'\n",
    "\n",
    "def func():\n",
    "    \n",
    "    print(X)"
   ]
  },
  {
   "cell_type": "code",
   "execution_count": 8,
   "metadata": {},
   "outputs": [
    {
     "name": "stdout",
     "output_type": "stream",
     "text": [
      "iNeuron\n"
     ]
    }
   ],
   "source": [
    "func()"
   ]
  },
  {
   "cell_type": "markdown",
   "metadata": {},
   "source": [
    "#### Result will be iNeuron. Here, we have assigned the 'iNeuron' string to variable X And then created a function named func() and printed the string variable X. Finally called the func() function and which returned the value of X."
   ]
  },
  {
   "cell_type": "markdown",
   "metadata": {},
   "source": [
    "# 2. What is the result of the code, and explain?\n",
    "\n",
    "\n",
    "###### >>> X = 'iNeuron'\n",
    "###### >>> def func():\n",
    "###### X = 'NI!'\n",
    "\n",
    "\n",
    "###### >>> func()\n",
    "###### >>> print(X)\n",
    "\n",
    "## Answer:"
   ]
  },
  {
   "cell_type": "code",
   "execution_count": 4,
   "metadata": {},
   "outputs": [],
   "source": [
    "X = 'iNeuron'\n",
    "\n",
    "def func():\n",
    "     X = 'NI!'"
   ]
  },
  {
   "cell_type": "code",
   "execution_count": 5,
   "metadata": {},
   "outputs": [],
   "source": [
    "func()"
   ]
  },
  {
   "cell_type": "code",
   "execution_count": 6,
   "metadata": {},
   "outputs": [
    {
     "name": "stdout",
     "output_type": "stream",
     "text": [
      "iNeuron\n"
     ]
    }
   ],
   "source": [
    "print(X)"
   ]
  },
  {
   "cell_type": "markdown",
   "metadata": {},
   "source": [
    "#### function func() is not producing any output as we didn't ask to the func() to print/return anything only we have created the variable X and assigned the value 'NI!' which is same as outside created variable but it's scope is inside the func() only not ousite. And that's why if we print X outside function call it will produce 'iNeuron' instead of 'NI!'"
   ]
  },
  {
   "cell_type": "markdown",
   "metadata": {},
   "source": [
    "# 3. What does this code print, and why?\n",
    "\n",
    "\n",
    "###### >>> X = 'iNeuron'\n",
    "###### >>> def func():\n",
    "###### X = 'NI'\n",
    "###### print(X)\n",
    "\n",
    "\n",
    "###### >>> func()\n",
    "###### >>> print(X)\n",
    "\n",
    "## Answer:"
   ]
  },
  {
   "cell_type": "code",
   "execution_count": 9,
   "metadata": {},
   "outputs": [],
   "source": [
    "X = 'iNeuron'\n",
    "\n",
    "def func():\n",
    "    X = 'NI!'\n",
    "    print(X)"
   ]
  },
  {
   "cell_type": "code",
   "execution_count": 10,
   "metadata": {},
   "outputs": [
    {
     "name": "stdout",
     "output_type": "stream",
     "text": [
      "NI!\n"
     ]
    }
   ],
   "source": [
    "func()"
   ]
  },
  {
   "cell_type": "code",
   "execution_count": 11,
   "metadata": {},
   "outputs": [
    {
     "name": "stdout",
     "output_type": "stream",
     "text": [
      "iNeuron\n"
     ]
    }
   ],
   "source": [
    "print(X)"
   ]
  },
  {
   "cell_type": "markdown",
   "metadata": {},
   "source": [
    "#### func() call will produce NI! since its printing the variable defined inside the function body. However, outside print function will produce X which is defined outside the func(). Conclusion! Inside variable X having sc"
   ]
  },
  {
   "cell_type": "markdown",
   "metadata": {},
   "source": [
    "# 4. What output does this code produce? Why?\n",
    "\n",
    "\n",
    "###### >>> X = 'iNeuron'\n",
    "###### >>> def func():\n",
    "###### global X\n",
    "###### X = 'NI'\n",
    "\n",
    "\n",
    "###### >>> func()\n",
    "###### >>> print(X)\n",
    "\n",
    "## Answer:"
   ]
  },
  {
   "cell_type": "code",
   "execution_count": 12,
   "metadata": {},
   "outputs": [],
   "source": [
    "X = 'iNeuron'\n",
    "\n",
    "def func():\n",
    "    \n",
    "    global X\n",
    "    \n",
    "    X = 'NI'"
   ]
  },
  {
   "cell_type": "code",
   "execution_count": 13,
   "metadata": {},
   "outputs": [],
   "source": [
    "func()"
   ]
  },
  {
   "cell_type": "code",
   "execution_count": 14,
   "metadata": {},
   "outputs": [
    {
     "name": "stdout",
     "output_type": "stream",
     "text": [
      "NI\n"
     ]
    }
   ],
   "source": [
    "print(X)"
   ]
  },
  {
   "cell_type": "markdown",
   "metadata": {},
   "source": [
    "#### Now, output will be NI because of two reasons. i) the key word 'global' ii) print(X) printing post func() call. "
   ]
  },
  {
   "cell_type": "markdown",
   "metadata": {},
   "source": [
    "# 5. What about this code—what’s the output, and why?\n",
    "\n",
    "\n",
    "###### >>> X = 'iNeuron'\n",
    "###### >>> def func():\n",
    "###### X = 'NI'\n",
    "###### def nested():\n",
    "###### print(X)\n",
    "###### nested()\n",
    "\n",
    "\n",
    "###### >>> func()\n",
    "###### >>> X\n",
    "\n",
    "## Answer:"
   ]
  },
  {
   "cell_type": "code",
   "execution_count": 19,
   "metadata": {},
   "outputs": [],
   "source": [
    "X = 'iNeuron'\n",
    "\n",
    "def func():\n",
    "    \n",
    "    X = 'NI'\n",
    "    \n",
    "    def nested():\n",
    "        \n",
    "        print(X)\n",
    "        \n",
    "    nested()"
   ]
  },
  {
   "cell_type": "code",
   "execution_count": 20,
   "metadata": {},
   "outputs": [
    {
     "name": "stdout",
     "output_type": "stream",
     "text": [
      "NI\n"
     ]
    }
   ],
   "source": [
    "func()"
   ]
  },
  {
   "cell_type": "code",
   "execution_count": 21,
   "metadata": {},
   "outputs": [
    {
     "data": {
      "text/plain": [
       "'iNeuron'"
      ]
     },
     "execution_count": 21,
     "metadata": {},
     "output_type": "execute_result"
    }
   ],
   "source": [
    "X"
   ]
  },
  {
   "cell_type": "markdown",
   "metadata": {},
   "source": [
    "#### func() call is printing NI as its printing the local X which is defined inside func() and it will be having scope for it all nested functions as well. "
   ]
  },
  {
   "cell_type": "markdown",
   "metadata": {},
   "source": [
    "# 6. How about this code: what is its output in Python 3, and explain?\n",
    "\n",
    "\n",
    "###### >>> def func():\n",
    "###### X = 'NI'\n",
    "###### def nested():\n",
    "###### nonlocal X\n",
    "###### X = 'Spam'\n",
    "###### nested()\n",
    "###### print(X)\n",
    "\n",
    "\n",
    "###### >>> func()\n",
    "\n",
    "## Answer:"
   ]
  },
  {
   "cell_type": "code",
   "execution_count": 28,
   "metadata": {},
   "outputs": [],
   "source": [
    "def func():\n",
    "    \n",
    "    X= 'NI'\n",
    "    \n",
    "    def nested():\n",
    "        \n",
    "        nonlocal X\n",
    "        \n",
    "        X = 'Spam'\n",
    "        \n",
    "    nested()\n",
    "    print(X)"
   ]
  },
  {
   "cell_type": "code",
   "execution_count": 29,
   "metadata": {},
   "outputs": [
    {
     "name": "stdout",
     "output_type": "stream",
     "text": [
      "Spam\n"
     ]
    }
   ],
   "source": [
    "func()"
   ]
  },
  {
   "cell_type": "markdown",
   "metadata": {},
   "source": [
    "#### Here, func() is printing value Spam bacuase of key word nonlocal. Hence, it's scope available outside nested() function as well."
   ]
  }
 ],
 "metadata": {
  "kernelspec": {
   "display_name": "Python 3",
   "language": "python",
   "name": "python3"
  },
  "language_info": {
   "codemirror_mode": {
    "name": "ipython",
    "version": 3
   },
   "file_extension": ".py",
   "mimetype": "text/x-python",
   "name": "python",
   "nbconvert_exporter": "python",
   "pygments_lexer": "ipython3",
   "version": "3.7.3"
  }
 },
 "nbformat": 4,
 "nbformat_minor": 2
}
