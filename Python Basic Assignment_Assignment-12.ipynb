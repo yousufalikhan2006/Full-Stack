{
 "cells": [
  {
   "cell_type": "markdown",
   "id": "4c93c19c",
   "metadata": {},
   "source": [
    "# 1. In what modes should the PdfFileReader() and PdfFileWriter() File objects will be opened?\n",
    "\n",
    "## Answer:\n",
    "\n",
    "#### PdfFileReader() file should be opened in read-binary mode by passing 'rb' as second argument and PdfFileWriter() should be opened in write-binary mode by passing 'wb' as the second argument."
   ]
  },
  {
   "cell_type": "markdown",
   "id": "8bb541c1",
   "metadata": {},
   "source": [
    "# 2. From a PdfFileReader object, how do you get a Page object for page 5?\n",
    "\n",
    "## Answer:\n",
    "\n",
    "#### We can get a Page object for page 5 by calling the getPage() method on a PdfFileReader object and passing it the page number which is 5 in our case.\n",
    "#### getPage(5)"
   ]
  },
  {
   "cell_type": "markdown",
   "id": "247715e1",
   "metadata": {},
   "source": [
    "# 3. What PdfFileReader variable stores the number of pages in the PDF document?\n",
    "\n",
    "## Answer:\n",
    "\n",
    "#### The total number of pages in the document is stored in the 'numPages' attribute of a PdfFileReader object."
   ]
  },
  {
   "cell_type": "markdown",
   "id": "c4f4c700",
   "metadata": {},
   "source": [
    "# 4. If a PdfFileReader object’s PDF is encrypted with the password swordfish, what must you do before you can obtain Page objects from it?\n",
    "\n",
    "## Answer:\n",
    "\n",
    "#### decrypt('swordfish')"
   ]
  },
  {
   "cell_type": "markdown",
   "id": "b696b34f",
   "metadata": {},
   "source": [
    "# 5. What methods do you use to rotate a page?\n",
    "\n",
    "## Answer:\n",
    "\n",
    "#### rotateClockwise() and rotateCounterClockwise() methods. Pass one of the integers 90, 180, or 270 to these methods."
   ]
  },
  {
   "cell_type": "markdown",
   "id": "e26decf5",
   "metadata": {},
   "source": [
    "# 6. What is the difference between a Run object and a Paragraph object?\n",
    "\n",
    "## Answer:\n",
    "\n",
    "#### The Document object contains a list of Paragraph objects for the paragraphs in the document. ... A Run object is a contiguous run of text with the same style."
   ]
  },
  {
   "cell_type": "markdown",
   "id": "5dfd6a8f",
   "metadata": {},
   "source": [
    "# 7. How do you obtain a list of Paragraph objects for a Document object that’s stored in a variable named doc?\n",
    "\n",
    "## Answer:\n",
    "\n",
    "#### import docx\n",
    "\n",
    "#### def getText(filename):\n",
    "####     doc = docx.Document(filename)\n",
    "####     fullText = []\n",
    "####     for para in doc.paragraphs:\n",
    "####         fullText.append(para.text)\n",
    "####     return '\\n'.join(fullText)"
   ]
  },
  {
   "cell_type": "markdown",
   "id": "24e4749d",
   "metadata": {},
   "source": [
    "# 8. What type of object has bold, underline, italic, strike, and outline variables?\n",
    "\n",
    "## Answer:\n",
    "\n",
    "#### Run Object has bold, underline, italic, strike, and outline variables/attributes."
   ]
  },
  {
   "cell_type": "markdown",
   "id": "3bab85fa",
   "metadata": {},
   "source": [
    "# 9. What is the difference between False, True, and None for the bold variable?\n",
    "\n",
    "## Answer:\n",
    "\n",
    "#### True (the attribute is always enabled, no matter what other styles are applied to the run), False (the attribute is always disabled), or None (defaults to whatever the run’s style is set to)."
   ]
  },
  {
   "cell_type": "markdown",
   "id": "ef241972",
   "metadata": {},
   "source": [
    "# 10. How do you create a Document object for a new Word document?\n",
    "\n",
    "## Answer:\n",
    "\n",
    "#### To create your own .docx file, call docx.Document() to return a new, blank Word Document object."
   ]
  },
  {
   "cell_type": "markdown",
   "id": "6bb1bf10",
   "metadata": {},
   "source": [
    "# 11. How do you add a paragraph with the text 'Hello, there!' to a Document object stored in a variable named doc?\n",
    "\n",
    "## Answer:\n",
    "\n",
    "#### import docx\n",
    "#### doc = docx.Document()\n",
    "#### doc.add_paragraph('Hello world!')"
   ]
  },
  {
   "cell_type": "markdown",
   "id": "6ba12803",
   "metadata": {},
   "source": [
    "# 12. What integers represent the levels of headings available in Word documents?\n",
    "\n",
    "## Answer:\n",
    "\n",
    "#### The arguments to add_heading() are a string of the heading text and an integer from 0 to 4. The integer 0 makes the heading the Title style, which is used for the top of the document. Integers 1 to 4 are for various heading levels, with 1 being the main heading and 4 the lowest subheading."
   ]
  }
 ],
 "metadata": {
  "kernelspec": {
   "display_name": "Python 3",
   "language": "python",
   "name": "python3"
  },
  "language_info": {
   "codemirror_mode": {
    "name": "ipython",
    "version": 3
   },
   "file_extension": ".py",
   "mimetype": "text/x-python",
   "name": "python",
   "nbconvert_exporter": "python",
   "pygments_lexer": "ipython3",
   "version": "3.8.8"
  }
 },
 "nbformat": 4,
 "nbformat_minor": 5
}
