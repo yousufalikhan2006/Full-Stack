{
 "cells": [
  {
   "cell_type": "markdown",
   "id": "263b52ca",
   "metadata": {},
   "source": [
    "# 1. Make a class called Thing with no contents and print it. Then, create an object called example from this class and also print it. Are the printed values the same or different?\n",
    "\n",
    "## Answer:"
   ]
  },
  {
   "cell_type": "code",
   "execution_count": 8,
   "id": "f59b70ce",
   "metadata": {},
   "outputs": [],
   "source": [
    "class Thing:\n",
    "    \n",
    "    pass"
   ]
  },
  {
   "cell_type": "code",
   "execution_count": 10,
   "id": "df92b7ef",
   "metadata": {},
   "outputs": [
    {
     "name": "stdout",
     "output_type": "stream",
     "text": [
      "<class '__main__.Thing'>\n"
     ]
    }
   ],
   "source": [
    "print(Thing)"
   ]
  },
  {
   "cell_type": "code",
   "execution_count": 11,
   "id": "ff8c2987",
   "metadata": {},
   "outputs": [
    {
     "name": "stdout",
     "output_type": "stream",
     "text": [
      "<__main__.Thing object at 0x0000019B0CD94FD0>\n"
     ]
    }
   ],
   "source": [
    "example = Thing()\n",
    "\n",
    "print(example)"
   ]
  },
  {
   "cell_type": "markdown",
   "id": "b845ba59",
   "metadata": {},
   "source": [
    "#### No, printed values are different. class print seems printing class main module/method, however its object returning the object location."
   ]
  },
  {
   "cell_type": "markdown",
   "id": "390b16db",
   "metadata": {},
   "source": [
    "# 2. Create a new class called Thing2 and add the value 'abc' to the letters class attribute. Letters should be printed.\n",
    "\n",
    "## Answer:"
   ]
  },
  {
   "cell_type": "code",
   "execution_count": 19,
   "id": "8d6dc807",
   "metadata": {},
   "outputs": [],
   "source": [
    "class Thing2:\n",
    "    \n",
    "    letters = 'abc'"
   ]
  },
  {
   "cell_type": "code",
   "execution_count": 20,
   "id": "3cbdb940",
   "metadata": {},
   "outputs": [
    {
     "name": "stdout",
     "output_type": "stream",
     "text": [
      "abc\n"
     ]
    }
   ],
   "source": [
    "print(Thing2.letters)"
   ]
  },
  {
   "cell_type": "markdown",
   "id": "0f3bc6b4",
   "metadata": {},
   "source": [
    "# 3. Make yet another class called, of course, Thing3. This time, assign the value 'xyz' to an instance (object) attribute called letters. Print letters. Do you need to make an object from the class to do this?\n",
    "\n",
    "## Answer:"
   ]
  },
  {
   "cell_type": "code",
   "execution_count": 29,
   "id": "48e8fb8b",
   "metadata": {},
   "outputs": [],
   "source": [
    "class Thing3:\n",
    "    \n",
    "    def __init__(self):\n",
    "        \n",
    "        self.letters = \"xyz\""
   ]
  },
  {
   "cell_type": "code",
   "execution_count": 30,
   "id": "c3887204",
   "metadata": {},
   "outputs": [
    {
     "name": "stdout",
     "output_type": "stream",
     "text": [
      "xyz\n"
     ]
    }
   ],
   "source": [
    "obj_Thing3 = Thing3()\n",
    "\n",
    "print(obj_Thing3.letters)"
   ]
  },
  {
   "cell_type": "markdown",
   "id": "607be368",
   "metadata": {},
   "source": [
    "##### Yes, we need to make an object to print the letters. Below error will generate if we directly print thorugh class."
   ]
  },
  {
   "cell_type": "code",
   "execution_count": 32,
   "id": "2269885e",
   "metadata": {},
   "outputs": [
    {
     "ename": "AttributeError",
     "evalue": "type object 'Thing3' has no attribute 'letters'",
     "output_type": "error",
     "traceback": [
      "\u001b[1;31m---------------------------------------------------------------------------\u001b[0m",
      "\u001b[1;31mAttributeError\u001b[0m                            Traceback (most recent call last)",
      "\u001b[1;32m<ipython-input-32-6f5d5916809a>\u001b[0m in \u001b[0;36m<module>\u001b[1;34m\u001b[0m\n\u001b[1;32m----> 1\u001b[1;33m \u001b[0mprint\u001b[0m\u001b[1;33m(\u001b[0m\u001b[0mThing3\u001b[0m\u001b[1;33m.\u001b[0m\u001b[0mletters\u001b[0m\u001b[1;33m)\u001b[0m\u001b[1;33m\u001b[0m\u001b[1;33m\u001b[0m\u001b[0m\n\u001b[0m",
      "\u001b[1;31mAttributeError\u001b[0m: type object 'Thing3' has no attribute 'letters'"
     ]
    }
   ],
   "source": [
    "print(Thing3.letters)"
   ]
  },
  {
   "cell_type": "markdown",
   "id": "31b8c4b2",
   "metadata": {},
   "source": [
    "# 4. Create an Element class with the instance attributes name, symbol, and number. Create a class object with the values 'Hydrogen,' 'H,' and 1.\n",
    "\n",
    "## Answer:"
   ]
  },
  {
   "cell_type": "code",
   "execution_count": 41,
   "id": "e55bbff6",
   "metadata": {},
   "outputs": [],
   "source": [
    "class Element:\n",
    "    \n",
    "    def __init__(self, name, symbol, number):\n",
    "        \n",
    "        self.name = name\n",
    "        self.symbol = symbol\n",
    "        self.number = number"
   ]
  },
  {
   "cell_type": "code",
   "execution_count": 42,
   "id": "e7eecde5",
   "metadata": {},
   "outputs": [],
   "source": [
    "obj_Element = Element('Hydrogen', 'H', 1)"
   ]
  },
  {
   "cell_type": "markdown",
   "id": "465e9c35",
   "metadata": {},
   "source": [
    "# 5. Make a dictionary with these keys and values: 'name': 'Hydrogen', 'symbol': 'H', 'number': 1. Then, create an object called hydrogen from class Element using this dictionary.\n",
    "\n",
    "## Answer:"
   ]
  },
  {
   "cell_type": "code",
   "execution_count": 37,
   "id": "897a1420",
   "metadata": {},
   "outputs": [],
   "source": [
    "dic = {'name': 'Hydrogen', 'symbol': 'H', 'number': 1}"
   ]
  },
  {
   "cell_type": "code",
   "execution_count": 43,
   "id": "35077eb2",
   "metadata": {},
   "outputs": [],
   "source": [
    "hydrogen = Element(dic['name'], dic['symbol'], dic['number'])"
   ]
  },
  {
   "cell_type": "code",
   "execution_count": 44,
   "id": "a751e501",
   "metadata": {},
   "outputs": [
    {
     "data": {
      "text/plain": [
       "'Hydrogen'"
      ]
     },
     "execution_count": 44,
     "metadata": {},
     "output_type": "execute_result"
    }
   ],
   "source": [
    "hydrogen.name"
   ]
  },
  {
   "cell_type": "code",
   "execution_count": 45,
   "id": "eab74992",
   "metadata": {},
   "outputs": [
    {
     "data": {
      "text/plain": [
       "'H'"
      ]
     },
     "execution_count": 45,
     "metadata": {},
     "output_type": "execute_result"
    }
   ],
   "source": [
    "hydrogen.symbol"
   ]
  },
  {
   "cell_type": "code",
   "execution_count": 46,
   "id": "3344b51c",
   "metadata": {},
   "outputs": [
    {
     "data": {
      "text/plain": [
       "1"
      ]
     },
     "execution_count": 46,
     "metadata": {},
     "output_type": "execute_result"
    }
   ],
   "source": [
    "hydrogen.number"
   ]
  },
  {
   "cell_type": "markdown",
   "id": "2e93a783",
   "metadata": {},
   "source": [
    "# 6. For the Element class, define a method called dump() that prints the values of the object’s attributes (name, symbol, and number). Create the hydrogen object from this new definition and use dump() to print its attributes.\n",
    "\n",
    "## Answer:"
   ]
  },
  {
   "cell_type": "code",
   "execution_count": 74,
   "id": "4ecfac3c",
   "metadata": {},
   "outputs": [],
   "source": [
    "class Element:\n",
    "    \n",
    "    def __init__(self, name, symbol, number):\n",
    "        \n",
    "        self.name = name\n",
    "        self.symbol = symbol\n",
    "        self.number = number\n",
    "        \n",
    "    def dump(self):\n",
    "        \n",
    "        print(self.name + \"  \" + self.symbol + \"  \" + str(self.number))"
   ]
  },
  {
   "cell_type": "code",
   "execution_count": 75,
   "id": "a6162ff7",
   "metadata": {},
   "outputs": [],
   "source": [
    "hydrogen = Element('Hydrogen', 'H', 1)"
   ]
  },
  {
   "cell_type": "code",
   "execution_count": 76,
   "id": "c524c347",
   "metadata": {},
   "outputs": [
    {
     "name": "stdout",
     "output_type": "stream",
     "text": [
      "Hydrogen  H  1\n"
     ]
    }
   ],
   "source": [
    "hydrogen.dump()"
   ]
  },
  {
   "cell_type": "markdown",
   "id": "ce259db6",
   "metadata": {},
   "source": [
    "# 7. Call print(hydrogen). In the definition of Element, change the name of method dump to __str__, create a new hydrogen object, and call print(hydrogen) again.\n",
    "\n",
    "## Answer:"
   ]
  },
  {
   "cell_type": "code",
   "execution_count": 87,
   "id": "cce91aaa",
   "metadata": {},
   "outputs": [],
   "source": [
    "class Element:\n",
    "    \n",
    "    def __init__(self, name, symbol, number):\n",
    "        \n",
    "        self.name = name\n",
    "        self.symbol = symbol\n",
    "        self.number = number\n",
    "        \n",
    "    def __str__(self):\n",
    "        \n",
    "        return self.name + \"  \" + self.symbol + \"  \" + str(self.number)"
   ]
  },
  {
   "cell_type": "code",
   "execution_count": 88,
   "id": "a274222c",
   "metadata": {},
   "outputs": [],
   "source": [
    "hydrogen = Element('Hydrogen', 'H', 1)"
   ]
  },
  {
   "cell_type": "code",
   "execution_count": 89,
   "id": "5f77dfbb",
   "metadata": {},
   "outputs": [
    {
     "name": "stdout",
     "output_type": "stream",
     "text": [
      "Hydrogen  H  1\n"
     ]
    }
   ],
   "source": [
    "print(hydrogen)"
   ]
  },
  {
   "cell_type": "markdown",
   "id": "5a1f7170",
   "metadata": {},
   "source": [
    "# 8. Modify Element to make the attributes name, symbol, and number private. Define a getter property for each to return its value.\n",
    "\n",
    "## Answer:"
   ]
  },
  {
   "cell_type": "code",
   "execution_count": 116,
   "id": "7659f073",
   "metadata": {},
   "outputs": [],
   "source": [
    "class Element:\n",
    "    \n",
    "    def __init__(self, name, symbol, number):\n",
    "        \n",
    "        self.__name = name\n",
    "        self.__symbol = symbol\n",
    "        self.__number = number\n",
    "       \n",
    "    def name(self):\n",
    "        \n",
    "        return self.__name\n",
    "        \n",
    "    def symbol(self):\n",
    "        \n",
    "        return self.__symbol\n",
    "        \n",
    "    def number(self):\n",
    "        \n",
    "        return self.__number"
   ]
  },
  {
   "cell_type": "code",
   "execution_count": 117,
   "id": "04c11b37",
   "metadata": {},
   "outputs": [],
   "source": [
    "hydrogen = Element('Hydrogen', 'H', 1)"
   ]
  },
  {
   "cell_type": "code",
   "execution_count": 118,
   "id": "5073ca44",
   "metadata": {},
   "outputs": [
    {
     "data": {
      "text/plain": [
       "'Hydrogen'"
      ]
     },
     "execution_count": 118,
     "metadata": {},
     "output_type": "execute_result"
    }
   ],
   "source": [
    "hydrogen.name()"
   ]
  },
  {
   "cell_type": "code",
   "execution_count": 119,
   "id": "b2300d76",
   "metadata": {},
   "outputs": [
    {
     "data": {
      "text/plain": [
       "'H'"
      ]
     },
     "execution_count": 119,
     "metadata": {},
     "output_type": "execute_result"
    }
   ],
   "source": [
    "hydrogen.symbol()"
   ]
  },
  {
   "cell_type": "code",
   "execution_count": 120,
   "id": "03fa9bc5",
   "metadata": {},
   "outputs": [
    {
     "data": {
      "text/plain": [
       "1"
      ]
     },
     "execution_count": 120,
     "metadata": {},
     "output_type": "execute_result"
    }
   ],
   "source": [
    "hydrogen.number()"
   ]
  },
  {
   "cell_type": "markdown",
   "id": "6924f9db",
   "metadata": {},
   "source": [
    "# 9. Define three classes: Bear, Rabbit, and Octothorpe. For each, define only one method: eats(). This should return 'berries' (Bear), 'clover' (Rabbit), or 'campers' (Octothorpe). Create one object from each and print what it eats.\n",
    "\n",
    "## Answer:"
   ]
  },
  {
   "cell_type": "code",
   "execution_count": 121,
   "id": "c7120a5e",
   "metadata": {},
   "outputs": [],
   "source": [
    "class Bear:\n",
    "    \n",
    "    def eats(self):\n",
    "        \n",
    "        return 'berries'\n",
    "    \n",
    "class Rabbit:\n",
    "    \n",
    "    def eats(self):\n",
    "        \n",
    "        return 'clover'\n",
    "    \n",
    "class Octothorpe:\n",
    "    \n",
    "    def eats(self):\n",
    "        \n",
    "        return 'campers'"
   ]
  },
  {
   "cell_type": "code",
   "execution_count": 123,
   "id": "1dbb723a",
   "metadata": {},
   "outputs": [
    {
     "name": "stdout",
     "output_type": "stream",
     "text": [
      "berries\n"
     ]
    }
   ],
   "source": [
    "B = Bear()\n",
    "\n",
    "print(B.eats())"
   ]
  },
  {
   "cell_type": "code",
   "execution_count": 124,
   "id": "8dd49621",
   "metadata": {},
   "outputs": [
    {
     "name": "stdout",
     "output_type": "stream",
     "text": [
      "clover\n"
     ]
    }
   ],
   "source": [
    "R = Rabbit()\n",
    "\n",
    "print(R.eats())"
   ]
  },
  {
   "cell_type": "code",
   "execution_count": 125,
   "id": "c5c660aa",
   "metadata": {},
   "outputs": [
    {
     "name": "stdout",
     "output_type": "stream",
     "text": [
      "campers\n"
     ]
    }
   ],
   "source": [
    "O = Octothorpe()\n",
    "\n",
    "print(O.eats())"
   ]
  },
  {
   "cell_type": "markdown",
   "id": "d52ed411",
   "metadata": {},
   "source": [
    "# 10. Define these classes: Laser, Claw, and SmartPhone. Each has only one method: does(). This returns 'disintegrate' (Laser), 'crush' (Claw), or 'ring' (SmartPhone). Then, define the class Robot that has one instance (object) of each of these. Define a does() method for the Robot that prints what its component objects do.\n",
    "\n",
    "## Answer:"
   ]
  },
  {
   "cell_type": "code",
   "execution_count": 150,
   "id": "16c1e96a",
   "metadata": {},
   "outputs": [],
   "source": [
    "class Laser:\n",
    "    \n",
    "    def does(self):\n",
    "        \n",
    "        return 'disintegrate'\n",
    "    \n",
    "class Claw:\n",
    "    \n",
    "    def does(self):\n",
    "        \n",
    "        return 'crush'\n",
    "    \n",
    "class SmartPhone:\n",
    "    \n",
    "    def does(self):\n",
    "        \n",
    "        return 'ring'\n",
    "    \n",
    "class Robot:\n",
    "    \n",
    "    def __init__(self):\n",
    "        \n",
    "        self.l = Laser()\n",
    "        self.c = Claw()\n",
    "        self. s = SmartPhone()\n",
    "    \n",
    "    def does(self):\n",
    "        \n",
    "        return \"Laser: \" + self.l.does() + \",\" + \" Claw: \" + self.c.does() + \",\" + \" SmartPhone: \" + self.s.does()\n",
    "    "
   ]
  },
  {
   "cell_type": "code",
   "execution_count": 151,
   "id": "a3d8cef6",
   "metadata": {},
   "outputs": [],
   "source": [
    "R = Robot()"
   ]
  },
  {
   "cell_type": "code",
   "execution_count": 152,
   "id": "a43caf00",
   "metadata": {},
   "outputs": [
    {
     "name": "stdout",
     "output_type": "stream",
     "text": [
      "Laser: disintegrate, Claw: crush, SmartPhone: ring\n"
     ]
    }
   ],
   "source": [
    "print(R.does())"
   ]
  }
 ],
 "metadata": {
  "kernelspec": {
   "display_name": "Python 3",
   "language": "python",
   "name": "python3"
  },
  "language_info": {
   "codemirror_mode": {
    "name": "ipython",
    "version": 3
   },
   "file_extension": ".py",
   "mimetype": "text/x-python",
   "name": "python",
   "nbconvert_exporter": "python",
   "pygments_lexer": "ipython3",
   "version": "3.8.8"
  }
 },
 "nbformat": 4,
 "nbformat_minor": 5
}
