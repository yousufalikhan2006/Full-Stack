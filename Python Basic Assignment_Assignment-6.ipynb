{
 "cells": [
  {
   "cell_type": "markdown",
   "id": "41df1954",
   "metadata": {},
   "source": [
    "# 1. What are escape characters, and how do you use them?\n",
    "\n",
    "## Answer-1:\n",
    "\n",
    "In Python strings, the backslash \\ is a special character, also called the \"escape\" character. It is used in representing certain whitespace characters: \"\\t\" is a tab, \"\\n\" is a newline, and \"\\r\" is a carriage return. Conversely, prefixing a special character with \\ turns it into an ordinary character."
   ]
  },
  {
   "cell_type": "markdown",
   "id": "ab931285",
   "metadata": {},
   "source": [
    "# 2. What do the escape characters n and t stand for?\n",
    "\n",
    "## Answer-2:\n",
    "\n",
    "#### \\n is a newline; \\t is a tab"
   ]
  },
  {
   "cell_type": "markdown",
   "id": "54268611",
   "metadata": {},
   "source": [
    "# 3. What is the way to include backslash characters in a string?\n",
    "\n",
    "## Answer-3:\n",
    "\n",
    "#### To include backslash characters, we need two backslashes."
   ]
  },
  {
   "cell_type": "markdown",
   "id": "4588fba8",
   "metadata": {},
   "source": [
    "# 4. The string \"Howl's Moving Castle\" is a correct value. Why isn't the single quote character in the word Howl's not escaped a problem?\n",
    "\n",
    "## Answer-4:\n",
    "\n",
    "#### The single quote in Howl's is fine because we've used double quotes to mark the beginning and end of the string.\n",
    "\n"
   ]
  },
  {
   "cell_type": "markdown",
   "id": "1747ff7a",
   "metadata": {},
   "source": [
    "# 5. How do you write a string of newlines if you don't want to use the n character?\n",
    "\n",
    "## Answer-5:\n",
    "\n",
    "#### You can print strings without adding a new line with end = (character) , which character is the (character) that will be used to separate the lines."
   ]
  },
  {
   "cell_type": "markdown",
   "id": "97b6830a",
   "metadata": {},
   "source": [
    "# 6. What are the values of the given expressions?\n",
    "\n",
    "## Answer-6:\n",
    "\n",
    "#### 'Hello, world!'[1]-------> 'e'\n",
    "#### 'Hello, world!'[0:5]-----> 'Hello'\n",
    "#### 'Hello, world!'[:5]------> 'Hello'\n",
    "#### 'Hello, world!'[3:]------> 'lo, world!'"
   ]
  },
  {
   "cell_type": "markdown",
   "id": "6ab52ba8",
   "metadata": {},
   "source": [
    "# 7. What are the values of the following expressions?\n",
    "\n",
    "## Answer-7:\n",
    "\n",
    "#### 'Hello'.upper()---------------------------> 'HELLO'\n",
    "#### 'Hello'.upper().isupper()-----------------> True\n",
    "#### 'Hello'.upper().lower()-------------------> 'hello'"
   ]
  },
  {
   "cell_type": "markdown",
   "id": "f4b6e8c8",
   "metadata": {},
   "source": [
    "# 8. What are the values of the following expressions?\n",
    "\n",
    "### 'Remember, remember, the fifth of July.'.split()\n",
    "\n",
    "### '-'.join('There can only one.'.split())\n",
    "\n",
    "## Answer-8:\n",
    "\n",
    "#### ['Remember,', 'remember,', 'the', 'fifth', 'of', 'July.']\n",
    "\n",
    "#### 'There-can-only-one.'"
   ]
  },
  {
   "cell_type": "markdown",
   "id": "06f1a990",
   "metadata": {},
   "source": [
    "# 9. What are the methods for right-justifying, left-justifying, and centering a string?\n",
    "\n",
    "## Answer-9:\n",
    "\n",
    "#### right-justifying-----> rjust()\n",
    "#### left-justifying------> ljust()\n",
    "#### centering------------> center()"
   ]
  },
  {
   "cell_type": "markdown",
   "id": "194c6fab",
   "metadata": {},
   "source": [
    "# 10. What is the best way to remove whitespace characters from the start or end?\n",
    "\n",
    "## Answer-10:\n",
    "\n",
    "#### The Python String strip() method is part of the built-in function available in python. The function will remove given characters from the start and end of the original string.\n",
    "#### However, to remove whitespace characters from the start we use lstrip() and to remove from end, we use rstrip()."
   ]
  }
 ],
 "metadata": {
  "kernelspec": {
   "display_name": "Python 3",
   "language": "python",
   "name": "python3"
  },
  "language_info": {
   "codemirror_mode": {
    "name": "ipython",
    "version": 3
   },
   "file_extension": ".py",
   "mimetype": "text/x-python",
   "name": "python",
   "nbconvert_exporter": "python",
   "pygments_lexer": "ipython3",
   "version": "3.8.8"
  }
 },
 "nbformat": 4,
 "nbformat_minor": 5
}
